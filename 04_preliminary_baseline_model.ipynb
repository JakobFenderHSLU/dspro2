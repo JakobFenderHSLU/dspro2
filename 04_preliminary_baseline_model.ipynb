{
 "cells": [
  {
   "cell_type": "markdown",
   "source": [
    "See [guide](https://towardsdatascience.com/audio-deep-learning-made-simple-sound-classification-step-by-step-cebc936bbe5)"
   ],
   "metadata": {
    "collapsed": false
   },
   "id": "7b8cc06f648e23a2"
  },
  {
   "cell_type": "code",
   "execution_count": 1,
   "id": "initial_id",
   "metadata": {
    "collapsed": true,
    "ExecuteTime": {
     "end_time": "2024-04-17T16:02:13.780133Z",
     "start_time": "2024-04-17T16:02:11.484102400Z"
    }
   },
   "outputs": [
    {
     "data": {
      "text/plain": "<module 'src.Baseline' from 'C:\\\\code\\\\dspro2\\\\src\\\\Baseline.py'>"
     },
     "execution_count": 1,
     "metadata": {},
     "output_type": "execute_result"
    }
   ],
   "source": [
    "import pandas as pd\n",
    "import torch\n",
    "import wandb\n",
    "import src.Baseline\n",
    "\n",
    "from torch.utils.data import DataLoader\n",
    "from torch.utils.data import random_split\n",
    "from importlib import reload\n",
    "from src.Baseline import SoundDS, AudioClassifier, training, inference\n",
    "\n",
    "# reload Baseline modules\n",
    "reload(src.Baseline)"
   ]
  },
  {
   "cell_type": "code",
   "outputs": [
    {
     "data": {
      "text/plain": "   rating playback_used ebird_code    channels        date          pitch  \\\n0     3.5            no     aldfly    1 (mono)  2013-05-25  Not specified   \n1     4.0            no     aldfly  2 (stereo)  2013-05-27           both   \n2     4.0            no     aldfly  2 (stereo)  2013-05-27           both   \n3     3.5            no     aldfly  2 (stereo)  2013-05-27           both   \n4     4.0            no     aldfly  2 (stereo)  2013-05-27           both   \n\n   duration      filename          speed           species  ...   xc_id  \\\n0        25  XC134874.mp3  Not specified  Alder Flycatcher  ...  134874   \n1        36  XC135454.mp3           both  Alder Flycatcher  ...  135454   \n2        39  XC135455.mp3           both  Alder Flycatcher  ...  135455   \n3        33  XC135456.mp3           both  Alder Flycatcher  ...  135456   \n4        36  XC135457.mp3          level  Alder Flycatcher  ...  135457   \n\n                                 url        country            author  \\\n0  https://www.xeno-canto.org/134874  United States  Jonathon Jongsma   \n1  https://www.xeno-canto.org/135454  United States       Mike Nelson   \n2  https://www.xeno-canto.org/135455  United States       Mike Nelson   \n3  https://www.xeno-canto.org/135456  United States       Mike Nelson   \n4  https://www.xeno-canto.org/135457  United States       Mike Nelson   \n\n                        primary_label longitude         length   time  \\\n0  Empidonax alnorum_Alder Flycatcher   -92.962  Not specified   8:00   \n1  Empidonax alnorum_Alder Flycatcher  -82.1106         0-3(s)  08:30   \n2  Empidonax alnorum_Alder Flycatcher  -82.1106         0-3(s)  08:30   \n3  Empidonax alnorum_Alder Flycatcher  -82.1106         0-3(s)  08:30   \n4  Empidonax alnorum_Alder Flycatcher  -82.1106         0-3(s)  08:30   \n\n          recordist                                            license  \n0  Jonathon Jongsma        Creative Commons Attribution-ShareAlike 3.0  \n1       Mike Nelson  Creative Commons Attribution-NonCommercial-Sha...  \n2       Mike Nelson  Creative Commons Attribution-NonCommercial-Sha...  \n3       Mike Nelson  Creative Commons Attribution-NonCommercial-Sha...  \n4       Mike Nelson  Creative Commons Attribution-NonCommercial-Sha...  \n\n[5 rows x 35 columns]",
      "text/html": "<div>\n<style scoped>\n    .dataframe tbody tr th:only-of-type {\n        vertical-align: middle;\n    }\n\n    .dataframe tbody tr th {\n        vertical-align: top;\n    }\n\n    .dataframe thead th {\n        text-align: right;\n    }\n</style>\n<table border=\"1\" class=\"dataframe\">\n  <thead>\n    <tr style=\"text-align: right;\">\n      <th></th>\n      <th>rating</th>\n      <th>playback_used</th>\n      <th>ebird_code</th>\n      <th>channels</th>\n      <th>date</th>\n      <th>pitch</th>\n      <th>duration</th>\n      <th>filename</th>\n      <th>speed</th>\n      <th>species</th>\n      <th>...</th>\n      <th>xc_id</th>\n      <th>url</th>\n      <th>country</th>\n      <th>author</th>\n      <th>primary_label</th>\n      <th>longitude</th>\n      <th>length</th>\n      <th>time</th>\n      <th>recordist</th>\n      <th>license</th>\n    </tr>\n  </thead>\n  <tbody>\n    <tr>\n      <th>0</th>\n      <td>3.5</td>\n      <td>no</td>\n      <td>aldfly</td>\n      <td>1 (mono)</td>\n      <td>2013-05-25</td>\n      <td>Not specified</td>\n      <td>25</td>\n      <td>XC134874.mp3</td>\n      <td>Not specified</td>\n      <td>Alder Flycatcher</td>\n      <td>...</td>\n      <td>134874</td>\n      <td>https://www.xeno-canto.org/134874</td>\n      <td>United States</td>\n      <td>Jonathon Jongsma</td>\n      <td>Empidonax alnorum_Alder Flycatcher</td>\n      <td>-92.962</td>\n      <td>Not specified</td>\n      <td>8:00</td>\n      <td>Jonathon Jongsma</td>\n      <td>Creative Commons Attribution-ShareAlike 3.0</td>\n    </tr>\n    <tr>\n      <th>1</th>\n      <td>4.0</td>\n      <td>no</td>\n      <td>aldfly</td>\n      <td>2 (stereo)</td>\n      <td>2013-05-27</td>\n      <td>both</td>\n      <td>36</td>\n      <td>XC135454.mp3</td>\n      <td>both</td>\n      <td>Alder Flycatcher</td>\n      <td>...</td>\n      <td>135454</td>\n      <td>https://www.xeno-canto.org/135454</td>\n      <td>United States</td>\n      <td>Mike Nelson</td>\n      <td>Empidonax alnorum_Alder Flycatcher</td>\n      <td>-82.1106</td>\n      <td>0-3(s)</td>\n      <td>08:30</td>\n      <td>Mike Nelson</td>\n      <td>Creative Commons Attribution-NonCommercial-Sha...</td>\n    </tr>\n    <tr>\n      <th>2</th>\n      <td>4.0</td>\n      <td>no</td>\n      <td>aldfly</td>\n      <td>2 (stereo)</td>\n      <td>2013-05-27</td>\n      <td>both</td>\n      <td>39</td>\n      <td>XC135455.mp3</td>\n      <td>both</td>\n      <td>Alder Flycatcher</td>\n      <td>...</td>\n      <td>135455</td>\n      <td>https://www.xeno-canto.org/135455</td>\n      <td>United States</td>\n      <td>Mike Nelson</td>\n      <td>Empidonax alnorum_Alder Flycatcher</td>\n      <td>-82.1106</td>\n      <td>0-3(s)</td>\n      <td>08:30</td>\n      <td>Mike Nelson</td>\n      <td>Creative Commons Attribution-NonCommercial-Sha...</td>\n    </tr>\n    <tr>\n      <th>3</th>\n      <td>3.5</td>\n      <td>no</td>\n      <td>aldfly</td>\n      <td>2 (stereo)</td>\n      <td>2013-05-27</td>\n      <td>both</td>\n      <td>33</td>\n      <td>XC135456.mp3</td>\n      <td>both</td>\n      <td>Alder Flycatcher</td>\n      <td>...</td>\n      <td>135456</td>\n      <td>https://www.xeno-canto.org/135456</td>\n      <td>United States</td>\n      <td>Mike Nelson</td>\n      <td>Empidonax alnorum_Alder Flycatcher</td>\n      <td>-82.1106</td>\n      <td>0-3(s)</td>\n      <td>08:30</td>\n      <td>Mike Nelson</td>\n      <td>Creative Commons Attribution-NonCommercial-Sha...</td>\n    </tr>\n    <tr>\n      <th>4</th>\n      <td>4.0</td>\n      <td>no</td>\n      <td>aldfly</td>\n      <td>2 (stereo)</td>\n      <td>2013-05-27</td>\n      <td>both</td>\n      <td>36</td>\n      <td>XC135457.mp3</td>\n      <td>level</td>\n      <td>Alder Flycatcher</td>\n      <td>...</td>\n      <td>135457</td>\n      <td>https://www.xeno-canto.org/135457</td>\n      <td>United States</td>\n      <td>Mike Nelson</td>\n      <td>Empidonax alnorum_Alder Flycatcher</td>\n      <td>-82.1106</td>\n      <td>0-3(s)</td>\n      <td>08:30</td>\n      <td>Mike Nelson</td>\n      <td>Creative Commons Attribution-NonCommercial-Sha...</td>\n    </tr>\n  </tbody>\n</table>\n<p>5 rows × 35 columns</p>\n</div>"
     },
     "execution_count": 2,
     "metadata": {},
     "output_type": "execute_result"
    }
   ],
   "source": [
    "# only use aldfly and bkcchi for example purposes\n",
    "df = pd.read_csv('input/birdsong-recognition/train.csv')\n",
    "\n",
    "df = df[df['ebird_code'].isin(['aldfly', 'bkcchi'])]\n",
    "df = df.reset_index(drop=True)\n",
    "df.head()"
   ],
   "metadata": {
    "collapsed": false,
    "ExecuteTime": {
     "end_time": "2024-04-17T16:02:13.997622Z",
     "start_time": "2024-04-17T16:02:13.780133Z"
    }
   },
   "id": "1bcc341f63373622",
   "execution_count": 2
  },
  {
   "cell_type": "code",
   "outputs": [],
   "source": [
    "def train():\n",
    "    wandb.init()\n",
    "\n",
    "    data_path = \"./input/birdsong-recognition/train_audio/\"\n",
    "\n",
    "    myds = SoundDS(df, data_path)\n",
    "\n",
    "    # Random split of 80:20 between training and validation\n",
    "    num_items = len(myds)\n",
    "    num_train = round(num_items * 0.8)\n",
    "    num_val = num_items - num_train\n",
    "    train_ds, val_ds = random_split(myds, [num_train, num_val])\n",
    "\n",
    "    # Create training and validation data loaders\n",
    "    train_dl = torch.utils.data.DataLoader(train_ds,\n",
    "                                           batch_size=wandb.config.batch_size_train,\n",
    "                                           shuffle=True)\n",
    "    val_dl = torch.utils.data.DataLoader(val_ds,\n",
    "                                         batch_size=wandb.config.batch_size_val,\n",
    "                                         shuffle=False)\n",
    "\n",
    "    # Create the model and put it on the GPU if available\n",
    "    model = AudioClassifier()\n",
    "    device = torch.device(\"cuda:0\" if torch.cuda.is_available() else \"cpu\")\n",
    "    model = model.to(device)\n",
    "    # Check that it is on Cuda\n",
    "    # var = next(model.parameters()).device\n",
    "\n",
    "    num_epochs = wandb.config.epochs\n",
    "    training(model, train_dl, num_epochs, device)\n",
    "\n",
    "    # Run inference on trained model with the validation set\n",
    "    inference(model, val_dl, device)\n",
    "    \n",
    "    # Save the model in the exchangeable ONNX format\n",
    "    torch.onnx.export(model, torch.randn(1, 1, 128, 201), \"model.onnx\")\n",
    "    \n",
    "    wandb.save(\"model.onnx\")"
   ],
   "metadata": {
    "collapsed": false,
    "ExecuteTime": {
     "end_time": "2024-04-17T16:02:14.021740100Z",
     "start_time": "2024-04-17T16:02:13.997622Z"
    }
   },
   "id": "d86e358e87f7fd9b",
   "execution_count": 3
  },
  {
   "cell_type": "code",
   "outputs": [
    {
     "name": "stderr",
     "output_type": "stream",
     "text": [
      "wandb: WARNING Malformed sweep config detected! This may cause your sweep to behave in unexpected ways.\n",
      "wandb: WARNING To avoid this, please fix the sweep config schema violations below:\n",
      "wandb: WARNING   Violation 1. learning_rate uses log_uniform, where min/max specify base-e exponents. Use log_uniform_values to specify limit values.\n"
     ]
    },
    {
     "name": "stdout",
     "output_type": "stream",
     "text": [
      "Create sweep with ID: p2kdwd1j\n",
      "Sweep URL: https://wandb.ai/swiss-birder/Baseline/sweeps/p2kdwd1j\n"
     ]
    },
    {
     "name": "stderr",
     "output_type": "stream",
     "text": [
      "wandb: Agent Starting Run: gvhuhy37 with config:\n",
      "wandb: \tanneal_strategy: linear\n",
      "wandb: \tbatch_size_train: 16\n",
      "wandb: \tbatch_size_val: 16\n",
      "wandb: \tepochs: 18\n",
      "wandb: \tlearning_rate: 1.0747457388650192\n",
      "wandb: Currently logged in as: fender-jakob (swiss-birder). Use `wandb login --relogin` to force relogin\n"
     ]
    },
    {
     "data": {
      "text/plain": "<IPython.core.display.HTML object>",
      "text/html": "wandb version 0.16.6 is available!  To upgrade, please run:\n $ pip install wandb --upgrade"
     },
     "metadata": {},
     "output_type": "display_data"
    },
    {
     "data": {
      "text/plain": "<IPython.core.display.HTML object>",
      "text/html": "Tracking run with wandb version 0.16.5"
     },
     "metadata": {},
     "output_type": "display_data"
    },
    {
     "data": {
      "text/plain": "<IPython.core.display.HTML object>",
      "text/html": "Run data is saved locally in <code>C:\\code\\dspro2\\wandb\\run-20240417_180241-gvhuhy37</code>"
     },
     "metadata": {},
     "output_type": "display_data"
    },
    {
     "data": {
      "text/plain": "<IPython.core.display.HTML object>",
      "text/html": "Syncing run <strong><a href='https://wandb.ai/swiss-birder/Baseline/runs/gvhuhy37/workspace' target=\"_blank\">fresh-sweep-1</a></strong> to <a href='https://wandb.ai/swiss-birder/Baseline' target=\"_blank\">Weights & Biases</a> (<a href='https://wandb.me/run' target=\"_blank\">docs</a>)<br/>Sweep page: <a href='https://wandb.ai/swiss-birder/Baseline/sweeps/p2kdwd1j' target=\"_blank\">https://wandb.ai/swiss-birder/Baseline/sweeps/p2kdwd1j</a>"
     },
     "metadata": {},
     "output_type": "display_data"
    },
    {
     "data": {
      "text/plain": "<IPython.core.display.HTML object>",
      "text/html": " View project at <a href='https://wandb.ai/swiss-birder/Baseline' target=\"_blank\">https://wandb.ai/swiss-birder/Baseline</a>"
     },
     "metadata": {},
     "output_type": "display_data"
    },
    {
     "data": {
      "text/plain": "<IPython.core.display.HTML object>",
      "text/html": " View sweep at <a href='https://wandb.ai/swiss-birder/Baseline/sweeps/p2kdwd1j' target=\"_blank\">https://wandb.ai/swiss-birder/Baseline/sweeps/p2kdwd1j</a>"
     },
     "metadata": {},
     "output_type": "display_data"
    },
    {
     "data": {
      "text/plain": "<IPython.core.display.HTML object>",
      "text/html": " View run at <a href='https://wandb.ai/swiss-birder/Baseline/runs/gvhuhy37/workspace' target=\"_blank\">https://wandb.ai/swiss-birder/Baseline/runs/gvhuhy37/workspace</a>"
     },
     "metadata": {},
     "output_type": "display_data"
    },
    {
     "name": "stdout",
     "output_type": "stream",
     "text": [
      "Finished Training\n",
      "Accuracy: 0.62, Total items: 40\n"
     ]
    },
    {
     "data": {
      "text/plain": "VBox(children=(Label(value='0.001 MB of 0.001 MB uploaded\\r'), FloatProgress(value=1.0, max=1.0)))",
      "application/vnd.jupyter.widget-view+json": {
       "version_major": 2,
       "version_minor": 0,
       "model_id": "1fd59b787e0347fb8a8b8dc392f20f39"
      }
     },
     "metadata": {},
     "output_type": "display_data"
    },
    {
     "data": {
      "text/plain": "<IPython.core.display.HTML object>",
      "text/html": "<style>\n    table.wandb td:nth-child(1) { padding: 0 10px; text-align: left ; width: auto;} td:nth-child(2) {text-align: left ; width: 100%}\n    .wandb-row { display: flex; flex-direction: row; flex-wrap: wrap; justify-content: flex-start; width: 100% }\n    .wandb-col { display: flex; flex-direction: column; flex-basis: 100%; flex: 1; padding: 10px; }\n    </style>\n<div class=\"wandb-row\"><div class=\"wandb-col\"><h3>Run history:</h3><br/><table class=\"wandb\"><tr><td>Accuracy</td><td>▃▆▅▇▁▃▇▄▇▆▅▇▇▄▇▆█▆</td></tr><tr><td>Loss</td><td>▁▁▂▇█▇▃▅▄▂▁▁▁▁▁▁▁▁</td></tr><tr><td>total_prediction</td><td>▁</td></tr><tr><td>val_acc</td><td>▁</td></tr></table><br/></div><div class=\"wandb-col\"><h3>Run summary:</h3><br/><table class=\"wandb\"><tr><td>Accuracy</td><td>0.54375</td></tr><tr><td>Loss</td><td>0.70324</td></tr><tr><td>total_prediction</td><td>40</td></tr><tr><td>val_acc</td><td>0.625</td></tr></table><br/></div></div>"
     },
     "metadata": {},
     "output_type": "display_data"
    },
    {
     "data": {
      "text/plain": "<IPython.core.display.HTML object>",
      "text/html": " View run <strong style=\"color:#cdcd00\">fresh-sweep-1</strong> at: <a href='https://wandb.ai/swiss-birder/Baseline/runs/gvhuhy37/workspace' target=\"_blank\">https://wandb.ai/swiss-birder/Baseline/runs/gvhuhy37/workspace</a><br/>Synced 5 W&B file(s), 0 media file(s), 0 artifact file(s) and 0 other file(s)"
     },
     "metadata": {},
     "output_type": "display_data"
    },
    {
     "data": {
      "text/plain": "<IPython.core.display.HTML object>",
      "text/html": "Find logs at: <code>.\\wandb\\run-20240417_180241-gvhuhy37\\logs</code>"
     },
     "metadata": {},
     "output_type": "display_data"
    },
    {
     "name": "stderr",
     "output_type": "stream",
     "text": [
      "Run gvhuhy37 errored:\n",
      "Traceback (most recent call last):\n",
      "  File \"C:\\code\\dspro2\\.venv\\lib\\site-packages\\wandb\\agents\\pyagent.py\", line 308, in _run_job\n",
      "    self._function()\n",
      "  File \"C:\\Users\\fende\\AppData\\Local\\Temp\\ipykernel_20384\\1851611840.py\", line 36, in train\n",
      "    torch.onnx.export(model, torch.randn(1, 1, 128, 201), \"model.onnx\")\n",
      "  File \"C:\\code\\dspro2\\.venv\\lib\\site-packages\\torch\\onnx\\utils.py\", line 516, in export\n",
      "    _export(\n",
      "  File \"C:\\code\\dspro2\\.venv\\lib\\site-packages\\torch\\onnx\\utils.py\", line 1613, in _export\n",
      "    graph, params_dict, torch_out = _model_to_graph(\n",
      "  File \"C:\\code\\dspro2\\.venv\\lib\\site-packages\\torch\\onnx\\utils.py\", line 1135, in _model_to_graph\n",
      "    graph, params, torch_out, module = _create_jit_graph(model, args)\n",
      "  File \"C:\\code\\dspro2\\.venv\\lib\\site-packages\\torch\\onnx\\utils.py\", line 1011, in _create_jit_graph\n",
      "    graph, torch_out = _trace_and_get_graph_from_model(model, args)\n",
      "  File \"C:\\code\\dspro2\\.venv\\lib\\site-packages\\torch\\onnx\\utils.py\", line 915, in _trace_and_get_graph_from_model\n",
      "    trace_graph, torch_out, inputs_states = torch.jit._get_trace_graph(\n",
      "  File \"C:\\code\\dspro2\\.venv\\lib\\site-packages\\torch\\jit\\_trace.py\", line 1296, in _get_trace_graph\n",
      "    outs = ONNXTracedModule(\n",
      "  File \"C:\\code\\dspro2\\.venv\\lib\\site-packages\\torch\\nn\\modules\\module.py\", line 1511, in _wrapped_call_impl\n",
      "    return self._call_impl(*args, **kwargs)\n",
      "  File \"C:\\code\\dspro2\\.venv\\lib\\site-packages\\torch\\nn\\modules\\module.py\", line 1520, in _call_impl\n",
      "    return forward_call(*args, **kwargs)\n",
      "  File \"C:\\code\\dspro2\\.venv\\lib\\site-packages\\torch\\jit\\_trace.py\", line 138, in forward\n",
      "    graph, out = torch._C._create_graph_by_tracing(\n",
      "  File \"C:\\code\\dspro2\\.venv\\lib\\site-packages\\torch\\jit\\_trace.py\", line 129, in wrapper\n",
      "    outs.append(self.inner(*trace_inputs))\n",
      "  File \"C:\\code\\dspro2\\.venv\\lib\\site-packages\\torch\\nn\\modules\\module.py\", line 1511, in _wrapped_call_impl\n",
      "    return self._call_impl(*args, **kwargs)\n",
      "  File \"C:\\code\\dspro2\\.venv\\lib\\site-packages\\torch\\nn\\modules\\module.py\", line 1520, in _call_impl\n",
      "    return forward_call(*args, **kwargs)\n",
      "  File \"C:\\code\\dspro2\\.venv\\lib\\site-packages\\torch\\nn\\modules\\module.py\", line 1501, in _slow_forward\n",
      "    result = self.forward(*input, **kwargs)\n",
      "  File \"C:\\code\\dspro2\\src\\Baseline.py\", line 113, in forward\n",
      "    x = self.conv(x)\n",
      "  File \"C:\\code\\dspro2\\.venv\\lib\\site-packages\\torch\\nn\\modules\\module.py\", line 1511, in _wrapped_call_impl\n",
      "    return self._call_impl(*args, **kwargs)\n",
      "  File \"C:\\code\\dspro2\\.venv\\lib\\site-packages\\torch\\nn\\modules\\module.py\", line 1520, in _call_impl\n",
      "    return forward_call(*args, **kwargs)\n",
      "  File \"C:\\code\\dspro2\\.venv\\lib\\site-packages\\torch\\nn\\modules\\module.py\", line 1501, in _slow_forward\n",
      "    result = self.forward(*input, **kwargs)\n",
      "  File \"C:\\code\\dspro2\\.venv\\lib\\site-packages\\torch\\nn\\modules\\container.py\", line 217, in forward\n",
      "    input = module(input)\n",
      "  File \"C:\\code\\dspro2\\.venv\\lib\\site-packages\\torch\\nn\\modules\\module.py\", line 1511, in _wrapped_call_impl\n",
      "    return self._call_impl(*args, **kwargs)\n",
      "  File \"C:\\code\\dspro2\\.venv\\lib\\site-packages\\torch\\nn\\modules\\module.py\", line 1520, in _call_impl\n",
      "    return forward_call(*args, **kwargs)\n",
      "  File \"C:\\code\\dspro2\\.venv\\lib\\site-packages\\torch\\nn\\modules\\module.py\", line 1501, in _slow_forward\n",
      "    result = self.forward(*input, **kwargs)\n",
      "  File \"C:\\code\\dspro2\\.venv\\lib\\site-packages\\torch\\nn\\modules\\conv.py\", line 460, in forward\n",
      "    return self._conv_forward(input, self.weight, self.bias)\n",
      "  File \"C:\\code\\dspro2\\.venv\\lib\\site-packages\\torch\\nn\\modules\\conv.py\", line 456, in _conv_forward\n",
      "    return F.conv2d(input, weight, bias, self.stride,\n",
      "RuntimeError: Given groups=1, weight of size [8, 2, 5, 5], expected input[1, 1, 128, 201] to have 2 channels, but got 1 channels instead\n",
      "\n",
      "wandb: ERROR Run gvhuhy37 errored:\n",
      "wandb: ERROR Traceback (most recent call last):\n",
      "wandb: ERROR   File \"C:\\code\\dspro2\\.venv\\lib\\site-packages\\wandb\\agents\\pyagent.py\", line 308, in _run_job\n",
      "wandb: ERROR     self._function()\n",
      "wandb: ERROR   File \"C:\\Users\\fende\\AppData\\Local\\Temp\\ipykernel_20384\\1851611840.py\", line 36, in train\n",
      "wandb: ERROR     torch.onnx.export(model, torch.randn(1, 1, 128, 201), \"model.onnx\")\n",
      "wandb: ERROR   File \"C:\\code\\dspro2\\.venv\\lib\\site-packages\\torch\\onnx\\utils.py\", line 516, in export\n",
      "wandb: ERROR     _export(\n",
      "wandb: ERROR   File \"C:\\code\\dspro2\\.venv\\lib\\site-packages\\torch\\onnx\\utils.py\", line 1613, in _export\n",
      "wandb: ERROR     graph, params_dict, torch_out = _model_to_graph(\n",
      "wandb: ERROR   File \"C:\\code\\dspro2\\.venv\\lib\\site-packages\\torch\\onnx\\utils.py\", line 1135, in _model_to_graph\n",
      "wandb: ERROR     graph, params, torch_out, module = _create_jit_graph(model, args)\n",
      "wandb: ERROR   File \"C:\\code\\dspro2\\.venv\\lib\\site-packages\\torch\\onnx\\utils.py\", line 1011, in _create_jit_graph\n",
      "wandb: ERROR     graph, torch_out = _trace_and_get_graph_from_model(model, args)\n",
      "wandb: ERROR   File \"C:\\code\\dspro2\\.venv\\lib\\site-packages\\torch\\onnx\\utils.py\", line 915, in _trace_and_get_graph_from_model\n",
      "wandb: ERROR     trace_graph, torch_out, inputs_states = torch.jit._get_trace_graph(\n",
      "wandb: ERROR   File \"C:\\code\\dspro2\\.venv\\lib\\site-packages\\torch\\jit\\_trace.py\", line 1296, in _get_trace_graph\n",
      "wandb: ERROR     outs = ONNXTracedModule(\n",
      "wandb: ERROR   File \"C:\\code\\dspro2\\.venv\\lib\\site-packages\\torch\\nn\\modules\\module.py\", line 1511, in _wrapped_call_impl\n",
      "wandb: ERROR     return self._call_impl(*args, **kwargs)\n",
      "wandb: ERROR   File \"C:\\code\\dspro2\\.venv\\lib\\site-packages\\torch\\nn\\modules\\module.py\", line 1520, in _call_impl\n",
      "wandb: ERROR     return forward_call(*args, **kwargs)\n",
      "wandb: ERROR   File \"C:\\code\\dspro2\\.venv\\lib\\site-packages\\torch\\jit\\_trace.py\", line 138, in forward\n",
      "wandb: ERROR     graph, out = torch._C._create_graph_by_tracing(\n",
      "wandb: ERROR   File \"C:\\code\\dspro2\\.venv\\lib\\site-packages\\torch\\jit\\_trace.py\", line 129, in wrapper\n",
      "wandb: ERROR     outs.append(self.inner(*trace_inputs))\n",
      "wandb: ERROR   File \"C:\\code\\dspro2\\.venv\\lib\\site-packages\\torch\\nn\\modules\\module.py\", line 1511, in _wrapped_call_impl\n",
      "wandb: ERROR     return self._call_impl(*args, **kwargs)\n",
      "wandb: ERROR   File \"C:\\code\\dspro2\\.venv\\lib\\site-packages\\torch\\nn\\modules\\module.py\", line 1520, in _call_impl\n",
      "wandb: ERROR     return forward_call(*args, **kwargs)\n",
      "wandb: ERROR   File \"C:\\code\\dspro2\\.venv\\lib\\site-packages\\torch\\nn\\modules\\module.py\", line 1501, in _slow_forward\n",
      "wandb: ERROR     result = self.forward(*input, **kwargs)\n",
      "wandb: ERROR   File \"C:\\code\\dspro2\\src\\Baseline.py\", line 113, in forward\n",
      "wandb: ERROR     x = self.conv(x)\n",
      "wandb: ERROR   File \"C:\\code\\dspro2\\.venv\\lib\\site-packages\\torch\\nn\\modules\\module.py\", line 1511, in _wrapped_call_impl\n",
      "wandb: ERROR     return self._call_impl(*args, **kwargs)\n",
      "wandb: ERROR   File \"C:\\code\\dspro2\\.venv\\lib\\site-packages\\torch\\nn\\modules\\module.py\", line 1520, in _call_impl\n",
      "wandb: ERROR     return forward_call(*args, **kwargs)\n",
      "wandb: ERROR   File \"C:\\code\\dspro2\\.venv\\lib\\site-packages\\torch\\nn\\modules\\module.py\", line 1501, in _slow_forward\n",
      "wandb: ERROR     result = self.forward(*input, **kwargs)\n",
      "wandb: ERROR   File \"C:\\code\\dspro2\\.venv\\lib\\site-packages\\torch\\nn\\modules\\container.py\", line 217, in forward\n",
      "wandb: ERROR     input = module(input)\n",
      "wandb: ERROR   File \"C:\\code\\dspro2\\.venv\\lib\\site-packages\\torch\\nn\\modules\\module.py\", line 1511, in _wrapped_call_impl\n",
      "wandb: ERROR     return self._call_impl(*args, **kwargs)\n",
      "wandb: ERROR   File \"C:\\code\\dspro2\\.venv\\lib\\site-packages\\torch\\nn\\modules\\module.py\", line 1520, in _call_impl\n",
      "wandb: ERROR     return forward_call(*args, **kwargs)\n",
      "wandb: ERROR   File \"C:\\code\\dspro2\\.venv\\lib\\site-packages\\torch\\nn\\modules\\module.py\", line 1501, in _slow_forward\n",
      "wandb: ERROR     result = self.forward(*input, **kwargs)\n",
      "wandb: ERROR   File \"C:\\code\\dspro2\\.venv\\lib\\site-packages\\torch\\nn\\modules\\conv.py\", line 460, in forward\n",
      "wandb: ERROR     return self._conv_forward(input, self.weight, self.bias)\n",
      "wandb: ERROR   File \"C:\\code\\dspro2\\.venv\\lib\\site-packages\\torch\\nn\\modules\\conv.py\", line 456, in _conv_forward\n",
      "wandb: ERROR     return F.conv2d(input, weight, bias, self.stride,\n",
      "wandb: ERROR RuntimeError: Given groups=1, weight of size [8, 2, 5, 5], expected input[1, 1, 128, 201] to have 2 channels, but got 1 channels instead\n",
      "wandb: ERROR \n",
      "wandb: Agent Starting Run: m2bws8qf with config:\n",
      "wandb: \tanneal_strategy: cos\n",
      "wandb: \tbatch_size_train: 16\n",
      "wandb: \tbatch_size_val: 64\n",
      "wandb: \tepochs: 13\n",
      "wandb: \tlearning_rate: 1.0919766979603227\n"
     ]
    },
    {
     "data": {
      "text/plain": "<IPython.core.display.HTML object>",
      "text/html": "wandb version 0.16.6 is available!  To upgrade, please run:\n $ pip install wandb --upgrade"
     },
     "metadata": {},
     "output_type": "display_data"
    },
    {
     "data": {
      "text/plain": "<IPython.core.display.HTML object>",
      "text/html": "Tracking run with wandb version 0.16.5"
     },
     "metadata": {},
     "output_type": "display_data"
    },
    {
     "data": {
      "text/plain": "<IPython.core.display.HTML object>",
      "text/html": "Run data is saved locally in <code>C:\\code\\dspro2\\wandb\\run-20240417_180513-m2bws8qf</code>"
     },
     "metadata": {},
     "output_type": "display_data"
    },
    {
     "data": {
      "text/plain": "<IPython.core.display.HTML object>",
      "text/html": "Syncing run <strong><a href='https://wandb.ai/swiss-birder/Baseline/runs/m2bws8qf/workspace' target=\"_blank\">peach-sweep-2</a></strong> to <a href='https://wandb.ai/swiss-birder/Baseline' target=\"_blank\">Weights & Biases</a> (<a href='https://wandb.me/run' target=\"_blank\">docs</a>)<br/>Sweep page: <a href='https://wandb.ai/swiss-birder/Baseline/sweeps/p2kdwd1j' target=\"_blank\">https://wandb.ai/swiss-birder/Baseline/sweeps/p2kdwd1j</a>"
     },
     "metadata": {},
     "output_type": "display_data"
    },
    {
     "data": {
      "text/plain": "<IPython.core.display.HTML object>",
      "text/html": " View project at <a href='https://wandb.ai/swiss-birder/Baseline' target=\"_blank\">https://wandb.ai/swiss-birder/Baseline</a>"
     },
     "metadata": {},
     "output_type": "display_data"
    },
    {
     "data": {
      "text/plain": "<IPython.core.display.HTML object>",
      "text/html": " View sweep at <a href='https://wandb.ai/swiss-birder/Baseline/sweeps/p2kdwd1j' target=\"_blank\">https://wandb.ai/swiss-birder/Baseline/sweeps/p2kdwd1j</a>"
     },
     "metadata": {},
     "output_type": "display_data"
    },
    {
     "data": {
      "text/plain": "<IPython.core.display.HTML object>",
      "text/html": " View run at <a href='https://wandb.ai/swiss-birder/Baseline/runs/m2bws8qf/workspace' target=\"_blank\">https://wandb.ai/swiss-birder/Baseline/runs/m2bws8qf/workspace</a>"
     },
     "metadata": {},
     "output_type": "display_data"
    },
    {
     "name": "stdout",
     "output_type": "stream",
     "text": [
      "Finished Training\n",
      "Accuracy: 0.42, Total items: 40\n"
     ]
    },
    {
     "data": {
      "text/plain": "VBox(children=(Label(value='0.001 MB of 0.001 MB uploaded\\r'), FloatProgress(value=1.0, max=1.0)))",
      "application/vnd.jupyter.widget-view+json": {
       "version_major": 2,
       "version_minor": 0,
       "model_id": "4b750b5495d44eccb29bc24e9bc373ce"
      }
     },
     "metadata": {},
     "output_type": "display_data"
    },
    {
     "data": {
      "text/plain": "<IPython.core.display.HTML object>",
      "text/html": "<style>\n    table.wandb td:nth-child(1) { padding: 0 10px; text-align: left ; width: auto;} td:nth-child(2) {text-align: left ; width: 100%}\n    .wandb-row { display: flex; flex-direction: row; flex-wrap: wrap; justify-content: flex-start; width: 100% }\n    .wandb-col { display: flex; flex-direction: column; flex-basis: 100%; flex: 1; padding: 10px; }\n    </style>\n<div class=\"wandb-row\"><div class=\"wandb-col\"><h3>Run history:</h3><br/><table class=\"wandb\"><tr><td>Accuracy</td><td>▃▆▄▄▄▁▁█▂▄▅▅▄</td></tr><tr><td>Loss</td><td>▁▁▂▃▅█▅▃▇▄▃▂▂</td></tr><tr><td>total_prediction</td><td>▁</td></tr><tr><td>val_acc</td><td>▁</td></tr></table><br/></div><div class=\"wandb-col\"><h3>Run summary:</h3><br/><table class=\"wandb\"><tr><td>Accuracy</td><td>0.51875</td></tr><tr><td>Loss</td><td>3.9747</td></tr><tr><td>total_prediction</td><td>40</td></tr><tr><td>val_acc</td><td>0.425</td></tr></table><br/></div></div>"
     },
     "metadata": {},
     "output_type": "display_data"
    },
    {
     "data": {
      "text/plain": "<IPython.core.display.HTML object>",
      "text/html": " View run <strong style=\"color:#cdcd00\">peach-sweep-2</strong> at: <a href='https://wandb.ai/swiss-birder/Baseline/runs/m2bws8qf/workspace' target=\"_blank\">https://wandb.ai/swiss-birder/Baseline/runs/m2bws8qf/workspace</a><br/>Synced 5 W&B file(s), 0 media file(s), 0 artifact file(s) and 0 other file(s)"
     },
     "metadata": {},
     "output_type": "display_data"
    },
    {
     "data": {
      "text/plain": "<IPython.core.display.HTML object>",
      "text/html": "Find logs at: <code>.\\wandb\\run-20240417_180513-m2bws8qf\\logs</code>"
     },
     "metadata": {},
     "output_type": "display_data"
    },
    {
     "name": "stderr",
     "output_type": "stream",
     "text": [
      "Run m2bws8qf errored:\n",
      "Traceback (most recent call last):\n",
      "  File \"C:\\code\\dspro2\\.venv\\lib\\site-packages\\wandb\\agents\\pyagent.py\", line 308, in _run_job\n",
      "    self._function()\n",
      "  File \"C:\\Users\\fende\\AppData\\Local\\Temp\\ipykernel_20384\\1851611840.py\", line 36, in train\n",
      "    torch.onnx.export(model, torch.randn(1, 1, 128, 201), \"model.onnx\")\n",
      "  File \"C:\\code\\dspro2\\.venv\\lib\\site-packages\\torch\\onnx\\utils.py\", line 516, in export\n",
      "    _export(\n",
      "  File \"C:\\code\\dspro2\\.venv\\lib\\site-packages\\torch\\onnx\\utils.py\", line 1613, in _export\n",
      "    graph, params_dict, torch_out = _model_to_graph(\n",
      "  File \"C:\\code\\dspro2\\.venv\\lib\\site-packages\\torch\\onnx\\utils.py\", line 1135, in _model_to_graph\n",
      "    graph, params, torch_out, module = _create_jit_graph(model, args)\n",
      "  File \"C:\\code\\dspro2\\.venv\\lib\\site-packages\\torch\\onnx\\utils.py\", line 1011, in _create_jit_graph\n",
      "    graph, torch_out = _trace_and_get_graph_from_model(model, args)\n",
      "  File \"C:\\code\\dspro2\\.venv\\lib\\site-packages\\torch\\onnx\\utils.py\", line 915, in _trace_and_get_graph_from_model\n",
      "    trace_graph, torch_out, inputs_states = torch.jit._get_trace_graph(\n",
      "  File \"C:\\code\\dspro2\\.venv\\lib\\site-packages\\torch\\jit\\_trace.py\", line 1296, in _get_trace_graph\n",
      "    outs = ONNXTracedModule(\n",
      "  File \"C:\\code\\dspro2\\.venv\\lib\\site-packages\\torch\\nn\\modules\\module.py\", line 1511, in _wrapped_call_impl\n",
      "    return self._call_impl(*args, **kwargs)\n",
      "  File \"C:\\code\\dspro2\\.venv\\lib\\site-packages\\torch\\nn\\modules\\module.py\", line 1520, in _call_impl\n",
      "    return forward_call(*args, **kwargs)\n",
      "  File \"C:\\code\\dspro2\\.venv\\lib\\site-packages\\torch\\jit\\_trace.py\", line 138, in forward\n",
      "    graph, out = torch._C._create_graph_by_tracing(\n",
      "  File \"C:\\code\\dspro2\\.venv\\lib\\site-packages\\torch\\jit\\_trace.py\", line 129, in wrapper\n",
      "    outs.append(self.inner(*trace_inputs))\n",
      "  File \"C:\\code\\dspro2\\.venv\\lib\\site-packages\\torch\\nn\\modules\\module.py\", line 1511, in _wrapped_call_impl\n",
      "    return self._call_impl(*args, **kwargs)\n",
      "  File \"C:\\code\\dspro2\\.venv\\lib\\site-packages\\torch\\nn\\modules\\module.py\", line 1520, in _call_impl\n",
      "    return forward_call(*args, **kwargs)\n",
      "  File \"C:\\code\\dspro2\\.venv\\lib\\site-packages\\torch\\nn\\modules\\module.py\", line 1501, in _slow_forward\n",
      "    result = self.forward(*input, **kwargs)\n",
      "  File \"C:\\code\\dspro2\\src\\Baseline.py\", line 113, in forward\n",
      "    x = self.conv(x)\n",
      "  File \"C:\\code\\dspro2\\.venv\\lib\\site-packages\\torch\\nn\\modules\\module.py\", line 1511, in _wrapped_call_impl\n",
      "    return self._call_impl(*args, **kwargs)\n",
      "  File \"C:\\code\\dspro2\\.venv\\lib\\site-packages\\torch\\nn\\modules\\module.py\", line 1520, in _call_impl\n",
      "    return forward_call(*args, **kwargs)\n",
      "  File \"C:\\code\\dspro2\\.venv\\lib\\site-packages\\torch\\nn\\modules\\module.py\", line 1501, in _slow_forward\n",
      "    result = self.forward(*input, **kwargs)\n",
      "  File \"C:\\code\\dspro2\\.venv\\lib\\site-packages\\torch\\nn\\modules\\container.py\", line 217, in forward\n",
      "    input = module(input)\n",
      "  File \"C:\\code\\dspro2\\.venv\\lib\\site-packages\\torch\\nn\\modules\\module.py\", line 1511, in _wrapped_call_impl\n",
      "    return self._call_impl(*args, **kwargs)\n",
      "  File \"C:\\code\\dspro2\\.venv\\lib\\site-packages\\torch\\nn\\modules\\module.py\", line 1520, in _call_impl\n",
      "    return forward_call(*args, **kwargs)\n",
      "  File \"C:\\code\\dspro2\\.venv\\lib\\site-packages\\torch\\nn\\modules\\module.py\", line 1501, in _slow_forward\n",
      "    result = self.forward(*input, **kwargs)\n",
      "  File \"C:\\code\\dspro2\\.venv\\lib\\site-packages\\torch\\nn\\modules\\conv.py\", line 460, in forward\n",
      "    return self._conv_forward(input, self.weight, self.bias)\n",
      "  File \"C:\\code\\dspro2\\.venv\\lib\\site-packages\\torch\\nn\\modules\\conv.py\", line 456, in _conv_forward\n",
      "    return F.conv2d(input, weight, bias, self.stride,\n",
      "RuntimeError: Given groups=1, weight of size [8, 2, 5, 5], expected input[1, 1, 128, 201] to have 2 channels, but got 1 channels instead\n",
      "\n",
      "wandb: ERROR Run m2bws8qf errored:\n",
      "wandb: ERROR Traceback (most recent call last):\n",
      "wandb: ERROR   File \"C:\\code\\dspro2\\.venv\\lib\\site-packages\\wandb\\agents\\pyagent.py\", line 308, in _run_job\n",
      "wandb: ERROR     self._function()\n",
      "wandb: ERROR   File \"C:\\Users\\fende\\AppData\\Local\\Temp\\ipykernel_20384\\1851611840.py\", line 36, in train\n",
      "wandb: ERROR     torch.onnx.export(model, torch.randn(1, 1, 128, 201), \"model.onnx\")\n",
      "wandb: ERROR   File \"C:\\code\\dspro2\\.venv\\lib\\site-packages\\torch\\onnx\\utils.py\", line 516, in export\n",
      "wandb: ERROR     _export(\n",
      "wandb: ERROR   File \"C:\\code\\dspro2\\.venv\\lib\\site-packages\\torch\\onnx\\utils.py\", line 1613, in _export\n",
      "wandb: ERROR     graph, params_dict, torch_out = _model_to_graph(\n",
      "wandb: ERROR   File \"C:\\code\\dspro2\\.venv\\lib\\site-packages\\torch\\onnx\\utils.py\", line 1135, in _model_to_graph\n",
      "wandb: ERROR     graph, params, torch_out, module = _create_jit_graph(model, args)\n",
      "wandb: ERROR   File \"C:\\code\\dspro2\\.venv\\lib\\site-packages\\torch\\onnx\\utils.py\", line 1011, in _create_jit_graph\n",
      "wandb: ERROR     graph, torch_out = _trace_and_get_graph_from_model(model, args)\n",
      "wandb: ERROR   File \"C:\\code\\dspro2\\.venv\\lib\\site-packages\\torch\\onnx\\utils.py\", line 915, in _trace_and_get_graph_from_model\n",
      "wandb: ERROR     trace_graph, torch_out, inputs_states = torch.jit._get_trace_graph(\n",
      "wandb: ERROR   File \"C:\\code\\dspro2\\.venv\\lib\\site-packages\\torch\\jit\\_trace.py\", line 1296, in _get_trace_graph\n",
      "wandb: ERROR     outs = ONNXTracedModule(\n",
      "wandb: ERROR   File \"C:\\code\\dspro2\\.venv\\lib\\site-packages\\torch\\nn\\modules\\module.py\", line 1511, in _wrapped_call_impl\n",
      "wandb: ERROR     return self._call_impl(*args, **kwargs)\n",
      "wandb: ERROR   File \"C:\\code\\dspro2\\.venv\\lib\\site-packages\\torch\\nn\\modules\\module.py\", line 1520, in _call_impl\n",
      "wandb: ERROR     return forward_call(*args, **kwargs)\n",
      "wandb: ERROR   File \"C:\\code\\dspro2\\.venv\\lib\\site-packages\\torch\\jit\\_trace.py\", line 138, in forward\n",
      "wandb: ERROR     graph, out = torch._C._create_graph_by_tracing(\n",
      "wandb: ERROR   File \"C:\\code\\dspro2\\.venv\\lib\\site-packages\\torch\\jit\\_trace.py\", line 129, in wrapper\n",
      "wandb: ERROR     outs.append(self.inner(*trace_inputs))\n",
      "wandb: ERROR   File \"C:\\code\\dspro2\\.venv\\lib\\site-packages\\torch\\nn\\modules\\module.py\", line 1511, in _wrapped_call_impl\n",
      "wandb: ERROR     return self._call_impl(*args, **kwargs)\n",
      "wandb: ERROR   File \"C:\\code\\dspro2\\.venv\\lib\\site-packages\\torch\\nn\\modules\\module.py\", line 1520, in _call_impl\n",
      "wandb: ERROR     return forward_call(*args, **kwargs)\n",
      "wandb: ERROR   File \"C:\\code\\dspro2\\.venv\\lib\\site-packages\\torch\\nn\\modules\\module.py\", line 1501, in _slow_forward\n",
      "wandb: ERROR     result = self.forward(*input, **kwargs)\n",
      "wandb: ERROR   File \"C:\\code\\dspro2\\src\\Baseline.py\", line 113, in forward\n",
      "wandb: ERROR     x = self.conv(x)\n",
      "wandb: ERROR   File \"C:\\code\\dspro2\\.venv\\lib\\site-packages\\torch\\nn\\modules\\module.py\", line 1511, in _wrapped_call_impl\n",
      "wandb: ERROR     return self._call_impl(*args, **kwargs)\n",
      "wandb: ERROR   File \"C:\\code\\dspro2\\.venv\\lib\\site-packages\\torch\\nn\\modules\\module.py\", line 1520, in _call_impl\n",
      "wandb: ERROR     return forward_call(*args, **kwargs)\n",
      "wandb: ERROR   File \"C:\\code\\dspro2\\.venv\\lib\\site-packages\\torch\\nn\\modules\\module.py\", line 1501, in _slow_forward\n",
      "wandb: ERROR     result = self.forward(*input, **kwargs)\n",
      "wandb: ERROR   File \"C:\\code\\dspro2\\.venv\\lib\\site-packages\\torch\\nn\\modules\\container.py\", line 217, in forward\n",
      "wandb: ERROR     input = module(input)\n",
      "wandb: ERROR   File \"C:\\code\\dspro2\\.venv\\lib\\site-packages\\torch\\nn\\modules\\module.py\", line 1511, in _wrapped_call_impl\n",
      "wandb: ERROR     return self._call_impl(*args, **kwargs)\n",
      "wandb: ERROR   File \"C:\\code\\dspro2\\.venv\\lib\\site-packages\\torch\\nn\\modules\\module.py\", line 1520, in _call_impl\n",
      "wandb: ERROR     return forward_call(*args, **kwargs)\n",
      "wandb: ERROR   File \"C:\\code\\dspro2\\.venv\\lib\\site-packages\\torch\\nn\\modules\\module.py\", line 1501, in _slow_forward\n",
      "wandb: ERROR     result = self.forward(*input, **kwargs)\n",
      "wandb: ERROR   File \"C:\\code\\dspro2\\.venv\\lib\\site-packages\\torch\\nn\\modules\\conv.py\", line 460, in forward\n",
      "wandb: ERROR     return self._conv_forward(input, self.weight, self.bias)\n",
      "wandb: ERROR   File \"C:\\code\\dspro2\\.venv\\lib\\site-packages\\torch\\nn\\modules\\conv.py\", line 456, in _conv_forward\n",
      "wandb: ERROR     return F.conv2d(input, weight, bias, self.stride,\n",
      "wandb: ERROR RuntimeError: Given groups=1, weight of size [8, 2, 5, 5], expected input[1, 1, 128, 201] to have 2 channels, but got 1 channels instead\n",
      "wandb: ERROR \n",
      "wandb: Agent Starting Run: 54p6m6h1 with config:\n",
      "wandb: \tanneal_strategy: cos\n",
      "wandb: \tbatch_size_train: 16\n",
      "wandb: \tbatch_size_val: 16\n",
      "wandb: \tepochs: 7\n",
      "wandb: \tlearning_rate: 1.0825102376408964\n"
     ]
    },
    {
     "data": {
      "text/plain": "<IPython.core.display.HTML object>",
      "text/html": "wandb version 0.16.6 is available!  To upgrade, please run:\n $ pip install wandb --upgrade"
     },
     "metadata": {},
     "output_type": "display_data"
    },
    {
     "data": {
      "text/plain": "<IPython.core.display.HTML object>",
      "text/html": "Tracking run with wandb version 0.16.5"
     },
     "metadata": {},
     "output_type": "display_data"
    },
    {
     "data": {
      "text/plain": "<IPython.core.display.HTML object>",
      "text/html": "Run data is saved locally in <code>C:\\code\\dspro2\\wandb\\run-20240417_180712-54p6m6h1</code>"
     },
     "metadata": {},
     "output_type": "display_data"
    },
    {
     "data": {
      "text/plain": "<IPython.core.display.HTML object>",
      "text/html": "Syncing run <strong><a href='https://wandb.ai/swiss-birder/Baseline/runs/54p6m6h1/workspace' target=\"_blank\">effortless-sweep-3</a></strong> to <a href='https://wandb.ai/swiss-birder/Baseline' target=\"_blank\">Weights & Biases</a> (<a href='https://wandb.me/run' target=\"_blank\">docs</a>)<br/>Sweep page: <a href='https://wandb.ai/swiss-birder/Baseline/sweeps/p2kdwd1j' target=\"_blank\">https://wandb.ai/swiss-birder/Baseline/sweeps/p2kdwd1j</a>"
     },
     "metadata": {},
     "output_type": "display_data"
    },
    {
     "data": {
      "text/plain": "<IPython.core.display.HTML object>",
      "text/html": " View project at <a href='https://wandb.ai/swiss-birder/Baseline' target=\"_blank\">https://wandb.ai/swiss-birder/Baseline</a>"
     },
     "metadata": {},
     "output_type": "display_data"
    },
    {
     "data": {
      "text/plain": "<IPython.core.display.HTML object>",
      "text/html": " View sweep at <a href='https://wandb.ai/swiss-birder/Baseline/sweeps/p2kdwd1j' target=\"_blank\">https://wandb.ai/swiss-birder/Baseline/sweeps/p2kdwd1j</a>"
     },
     "metadata": {},
     "output_type": "display_data"
    },
    {
     "data": {
      "text/plain": "<IPython.core.display.HTML object>",
      "text/html": " View run at <a href='https://wandb.ai/swiss-birder/Baseline/runs/54p6m6h1/workspace' target=\"_blank\">https://wandb.ai/swiss-birder/Baseline/runs/54p6m6h1/workspace</a>"
     },
     "metadata": {},
     "output_type": "display_data"
    },
    {
     "name": "stdout",
     "output_type": "stream",
     "text": [
      "Finished Training\n",
      "Accuracy: 0.50, Total items: 40\n"
     ]
    },
    {
     "data": {
      "text/plain": "VBox(children=(Label(value='0.001 MB of 0.001 MB uploaded\\r'), FloatProgress(value=1.0, max=1.0)))",
      "application/vnd.jupyter.widget-view+json": {
       "version_major": 2,
       "version_minor": 0,
       "model_id": "9fe1d1e5cd9d4161a7ab1d407aeed88e"
      }
     },
     "metadata": {},
     "output_type": "display_data"
    },
    {
     "data": {
      "text/plain": "<IPython.core.display.HTML object>",
      "text/html": "<style>\n    table.wandb td:nth-child(1) { padding: 0 10px; text-align: left ; width: auto;} td:nth-child(2) {text-align: left ; width: 100%}\n    .wandb-row { display: flex; flex-direction: row; flex-wrap: wrap; justify-content: flex-start; width: 100% }\n    .wandb-col { display: flex; flex-direction: column; flex-basis: 100%; flex: 1; padding: 10px; }\n    </style>\n<div class=\"wandb-row\"><div class=\"wandb-col\"><h3>Run history:</h3><br/><table class=\"wandb\"><tr><td>Accuracy</td><td>▄█▁▄▆▃▄</td></tr><tr><td>Loss</td><td>▁▁█▅▄▂▂</td></tr><tr><td>total_prediction</td><td>▁</td></tr><tr><td>val_acc</td><td>▁</td></tr></table><br/></div><div class=\"wandb-col\"><h3>Run summary:</h3><br/><table class=\"wandb\"><tr><td>Accuracy</td><td>0.5125</td></tr><tr><td>Loss</td><td>2.73306</td></tr><tr><td>total_prediction</td><td>40</td></tr><tr><td>val_acc</td><td>0.5</td></tr></table><br/></div></div>"
     },
     "metadata": {},
     "output_type": "display_data"
    },
    {
     "data": {
      "text/plain": "<IPython.core.display.HTML object>",
      "text/html": " View run <strong style=\"color:#cdcd00\">effortless-sweep-3</strong> at: <a href='https://wandb.ai/swiss-birder/Baseline/runs/54p6m6h1/workspace' target=\"_blank\">https://wandb.ai/swiss-birder/Baseline/runs/54p6m6h1/workspace</a><br/>Synced 5 W&B file(s), 0 media file(s), 0 artifact file(s) and 0 other file(s)"
     },
     "metadata": {},
     "output_type": "display_data"
    },
    {
     "data": {
      "text/plain": "<IPython.core.display.HTML object>",
      "text/html": "Find logs at: <code>.\\wandb\\run-20240417_180712-54p6m6h1\\logs</code>"
     },
     "metadata": {},
     "output_type": "display_data"
    },
    {
     "name": "stderr",
     "output_type": "stream",
     "text": [
      "Run 54p6m6h1 errored:\n",
      "Traceback (most recent call last):\n",
      "  File \"C:\\code\\dspro2\\.venv\\lib\\site-packages\\wandb\\agents\\pyagent.py\", line 308, in _run_job\n",
      "    self._function()\n",
      "  File \"C:\\Users\\fende\\AppData\\Local\\Temp\\ipykernel_20384\\1851611840.py\", line 36, in train\n",
      "    torch.onnx.export(model, torch.randn(1, 1, 128, 201), \"model.onnx\")\n",
      "  File \"C:\\code\\dspro2\\.venv\\lib\\site-packages\\torch\\onnx\\utils.py\", line 516, in export\n",
      "    _export(\n",
      "  File \"C:\\code\\dspro2\\.venv\\lib\\site-packages\\torch\\onnx\\utils.py\", line 1613, in _export\n",
      "    graph, params_dict, torch_out = _model_to_graph(\n",
      "  File \"C:\\code\\dspro2\\.venv\\lib\\site-packages\\torch\\onnx\\utils.py\", line 1135, in _model_to_graph\n",
      "    graph, params, torch_out, module = _create_jit_graph(model, args)\n",
      "  File \"C:\\code\\dspro2\\.venv\\lib\\site-packages\\torch\\onnx\\utils.py\", line 1011, in _create_jit_graph\n",
      "    graph, torch_out = _trace_and_get_graph_from_model(model, args)\n",
      "  File \"C:\\code\\dspro2\\.venv\\lib\\site-packages\\torch\\onnx\\utils.py\", line 915, in _trace_and_get_graph_from_model\n",
      "    trace_graph, torch_out, inputs_states = torch.jit._get_trace_graph(\n",
      "  File \"C:\\code\\dspro2\\.venv\\lib\\site-packages\\torch\\jit\\_trace.py\", line 1296, in _get_trace_graph\n",
      "    outs = ONNXTracedModule(\n",
      "  File \"C:\\code\\dspro2\\.venv\\lib\\site-packages\\torch\\nn\\modules\\module.py\", line 1511, in _wrapped_call_impl\n",
      "    return self._call_impl(*args, **kwargs)\n",
      "  File \"C:\\code\\dspro2\\.venv\\lib\\site-packages\\torch\\nn\\modules\\module.py\", line 1520, in _call_impl\n",
      "    return forward_call(*args, **kwargs)\n",
      "  File \"C:\\code\\dspro2\\.venv\\lib\\site-packages\\torch\\jit\\_trace.py\", line 138, in forward\n",
      "    graph, out = torch._C._create_graph_by_tracing(\n",
      "  File \"C:\\code\\dspro2\\.venv\\lib\\site-packages\\torch\\jit\\_trace.py\", line 129, in wrapper\n",
      "    outs.append(self.inner(*trace_inputs))\n",
      "  File \"C:\\code\\dspro2\\.venv\\lib\\site-packages\\torch\\nn\\modules\\module.py\", line 1511, in _wrapped_call_impl\n",
      "    return self._call_impl(*args, **kwargs)\n",
      "  File \"C:\\code\\dspro2\\.venv\\lib\\site-packages\\torch\\nn\\modules\\module.py\", line 1520, in _call_impl\n",
      "    return forward_call(*args, **kwargs)\n",
      "  File \"C:\\code\\dspro2\\.venv\\lib\\site-packages\\torch\\nn\\modules\\module.py\", line 1501, in _slow_forward\n",
      "    result = self.forward(*input, **kwargs)\n",
      "  File \"C:\\code\\dspro2\\src\\Baseline.py\", line 113, in forward\n",
      "    x = self.conv(x)\n",
      "  File \"C:\\code\\dspro2\\.venv\\lib\\site-packages\\torch\\nn\\modules\\module.py\", line 1511, in _wrapped_call_impl\n",
      "    return self._call_impl(*args, **kwargs)\n",
      "  File \"C:\\code\\dspro2\\.venv\\lib\\site-packages\\torch\\nn\\modules\\module.py\", line 1520, in _call_impl\n",
      "    return forward_call(*args, **kwargs)\n",
      "  File \"C:\\code\\dspro2\\.venv\\lib\\site-packages\\torch\\nn\\modules\\module.py\", line 1501, in _slow_forward\n",
      "    result = self.forward(*input, **kwargs)\n",
      "  File \"C:\\code\\dspro2\\.venv\\lib\\site-packages\\torch\\nn\\modules\\container.py\", line 217, in forward\n",
      "    input = module(input)\n",
      "  File \"C:\\code\\dspro2\\.venv\\lib\\site-packages\\torch\\nn\\modules\\module.py\", line 1511, in _wrapped_call_impl\n",
      "    return self._call_impl(*args, **kwargs)\n",
      "  File \"C:\\code\\dspro2\\.venv\\lib\\site-packages\\torch\\nn\\modules\\module.py\", line 1520, in _call_impl\n",
      "    return forward_call(*args, **kwargs)\n",
      "  File \"C:\\code\\dspro2\\.venv\\lib\\site-packages\\torch\\nn\\modules\\module.py\", line 1501, in _slow_forward\n",
      "    result = self.forward(*input, **kwargs)\n",
      "  File \"C:\\code\\dspro2\\.venv\\lib\\site-packages\\torch\\nn\\modules\\conv.py\", line 460, in forward\n",
      "    return self._conv_forward(input, self.weight, self.bias)\n",
      "  File \"C:\\code\\dspro2\\.venv\\lib\\site-packages\\torch\\nn\\modules\\conv.py\", line 456, in _conv_forward\n",
      "    return F.conv2d(input, weight, bias, self.stride,\n",
      "RuntimeError: Given groups=1, weight of size [8, 2, 5, 5], expected input[1, 1, 128, 201] to have 2 channels, but got 1 channels instead\n",
      "\n",
      "wandb: ERROR Run 54p6m6h1 errored:\n",
      "wandb: ERROR Traceback (most recent call last):\n",
      "wandb: ERROR   File \"C:\\code\\dspro2\\.venv\\lib\\site-packages\\wandb\\agents\\pyagent.py\", line 308, in _run_job\n",
      "wandb: ERROR     self._function()\n",
      "wandb: ERROR   File \"C:\\Users\\fende\\AppData\\Local\\Temp\\ipykernel_20384\\1851611840.py\", line 36, in train\n",
      "wandb: ERROR     torch.onnx.export(model, torch.randn(1, 1, 128, 201), \"model.onnx\")\n",
      "wandb: ERROR   File \"C:\\code\\dspro2\\.venv\\lib\\site-packages\\torch\\onnx\\utils.py\", line 516, in export\n",
      "wandb: ERROR     _export(\n",
      "wandb: ERROR   File \"C:\\code\\dspro2\\.venv\\lib\\site-packages\\torch\\onnx\\utils.py\", line 1613, in _export\n",
      "wandb: ERROR     graph, params_dict, torch_out = _model_to_graph(\n",
      "wandb: ERROR   File \"C:\\code\\dspro2\\.venv\\lib\\site-packages\\torch\\onnx\\utils.py\", line 1135, in _model_to_graph\n",
      "wandb: ERROR     graph, params, torch_out, module = _create_jit_graph(model, args)\n",
      "wandb: ERROR   File \"C:\\code\\dspro2\\.venv\\lib\\site-packages\\torch\\onnx\\utils.py\", line 1011, in _create_jit_graph\n",
      "wandb: ERROR     graph, torch_out = _trace_and_get_graph_from_model(model, args)\n",
      "wandb: ERROR   File \"C:\\code\\dspro2\\.venv\\lib\\site-packages\\torch\\onnx\\utils.py\", line 915, in _trace_and_get_graph_from_model\n",
      "wandb: ERROR     trace_graph, torch_out, inputs_states = torch.jit._get_trace_graph(\n",
      "wandb: ERROR   File \"C:\\code\\dspro2\\.venv\\lib\\site-packages\\torch\\jit\\_trace.py\", line 1296, in _get_trace_graph\n",
      "wandb: ERROR     outs = ONNXTracedModule(\n",
      "wandb: ERROR   File \"C:\\code\\dspro2\\.venv\\lib\\site-packages\\torch\\nn\\modules\\module.py\", line 1511, in _wrapped_call_impl\n",
      "wandb: ERROR     return self._call_impl(*args, **kwargs)\n",
      "wandb: ERROR   File \"C:\\code\\dspro2\\.venv\\lib\\site-packages\\torch\\nn\\modules\\module.py\", line 1520, in _call_impl\n",
      "wandb: ERROR     return forward_call(*args, **kwargs)\n",
      "wandb: ERROR   File \"C:\\code\\dspro2\\.venv\\lib\\site-packages\\torch\\jit\\_trace.py\", line 138, in forward\n",
      "wandb: ERROR     graph, out = torch._C._create_graph_by_tracing(\n",
      "wandb: ERROR   File \"C:\\code\\dspro2\\.venv\\lib\\site-packages\\torch\\jit\\_trace.py\", line 129, in wrapper\n",
      "wandb: ERROR     outs.append(self.inner(*trace_inputs))\n",
      "wandb: ERROR   File \"C:\\code\\dspro2\\.venv\\lib\\site-packages\\torch\\nn\\modules\\module.py\", line 1511, in _wrapped_call_impl\n",
      "wandb: ERROR     return self._call_impl(*args, **kwargs)\n",
      "wandb: ERROR   File \"C:\\code\\dspro2\\.venv\\lib\\site-packages\\torch\\nn\\modules\\module.py\", line 1520, in _call_impl\n",
      "wandb: ERROR     return forward_call(*args, **kwargs)\n",
      "wandb: ERROR   File \"C:\\code\\dspro2\\.venv\\lib\\site-packages\\torch\\nn\\modules\\module.py\", line 1501, in _slow_forward\n",
      "wandb: ERROR     result = self.forward(*input, **kwargs)\n",
      "wandb: ERROR   File \"C:\\code\\dspro2\\src\\Baseline.py\", line 113, in forward\n",
      "wandb: ERROR     x = self.conv(x)\n",
      "wandb: ERROR   File \"C:\\code\\dspro2\\.venv\\lib\\site-packages\\torch\\nn\\modules\\module.py\", line 1511, in _wrapped_call_impl\n",
      "wandb: ERROR     return self._call_impl(*args, **kwargs)\n",
      "wandb: ERROR   File \"C:\\code\\dspro2\\.venv\\lib\\site-packages\\torch\\nn\\modules\\module.py\", line 1520, in _call_impl\n",
      "wandb: ERROR     return forward_call(*args, **kwargs)\n",
      "wandb: ERROR   File \"C:\\code\\dspro2\\.venv\\lib\\site-packages\\torch\\nn\\modules\\module.py\", line 1501, in _slow_forward\n",
      "wandb: ERROR     result = self.forward(*input, **kwargs)\n",
      "wandb: ERROR   File \"C:\\code\\dspro2\\.venv\\lib\\site-packages\\torch\\nn\\modules\\container.py\", line 217, in forward\n",
      "wandb: ERROR     input = module(input)\n",
      "wandb: ERROR   File \"C:\\code\\dspro2\\.venv\\lib\\site-packages\\torch\\nn\\modules\\module.py\", line 1511, in _wrapped_call_impl\n",
      "wandb: ERROR     return self._call_impl(*args, **kwargs)\n",
      "wandb: ERROR   File \"C:\\code\\dspro2\\.venv\\lib\\site-packages\\torch\\nn\\modules\\module.py\", line 1520, in _call_impl\n",
      "wandb: ERROR     return forward_call(*args, **kwargs)\n",
      "wandb: ERROR   File \"C:\\code\\dspro2\\.venv\\lib\\site-packages\\torch\\nn\\modules\\module.py\", line 1501, in _slow_forward\n",
      "wandb: ERROR     result = self.forward(*input, **kwargs)\n",
      "wandb: ERROR   File \"C:\\code\\dspro2\\.venv\\lib\\site-packages\\torch\\nn\\modules\\conv.py\", line 460, in forward\n",
      "wandb: ERROR     return self._conv_forward(input, self.weight, self.bias)\n",
      "wandb: ERROR   File \"C:\\code\\dspro2\\.venv\\lib\\site-packages\\torch\\nn\\modules\\conv.py\", line 456, in _conv_forward\n",
      "wandb: ERROR     return F.conv2d(input, weight, bias, self.stride,\n",
      "wandb: ERROR RuntimeError: Given groups=1, weight of size [8, 2, 5, 5], expected input[1, 1, 128, 201] to have 2 channels, but got 1 channels instead\n",
      "wandb: ERROR \n",
      "wandb: Agent Starting Run: jencoun9 with config:\n",
      "wandb: \tanneal_strategy: linear\n",
      "wandb: \tbatch_size_train: 16\n",
      "wandb: \tbatch_size_val: 16\n",
      "wandb: \tepochs: 19\n",
      "wandb: \tlearning_rate: 1.0772128370758194\n"
     ]
    },
    {
     "data": {
      "text/plain": "<IPython.core.display.HTML object>",
      "text/html": "wandb version 0.16.6 is available!  To upgrade, please run:\n $ pip install wandb --upgrade"
     },
     "metadata": {},
     "output_type": "display_data"
    },
    {
     "data": {
      "text/plain": "<IPython.core.display.HTML object>",
      "text/html": "Tracking run with wandb version 0.16.5"
     },
     "metadata": {},
     "output_type": "display_data"
    },
    {
     "data": {
      "text/plain": "<IPython.core.display.HTML object>",
      "text/html": "Run data is saved locally in <code>C:\\code\\dspro2\\wandb\\run-20240417_180819-jencoun9</code>"
     },
     "metadata": {},
     "output_type": "display_data"
    },
    {
     "data": {
      "text/plain": "<IPython.core.display.HTML object>",
      "text/html": "Syncing run <strong><a href='https://wandb.ai/swiss-birder/Baseline/runs/jencoun9/workspace' target=\"_blank\">tough-sweep-4</a></strong> to <a href='https://wandb.ai/swiss-birder/Baseline' target=\"_blank\">Weights & Biases</a> (<a href='https://wandb.me/run' target=\"_blank\">docs</a>)<br/>Sweep page: <a href='https://wandb.ai/swiss-birder/Baseline/sweeps/p2kdwd1j' target=\"_blank\">https://wandb.ai/swiss-birder/Baseline/sweeps/p2kdwd1j</a>"
     },
     "metadata": {},
     "output_type": "display_data"
    },
    {
     "data": {
      "text/plain": "<IPython.core.display.HTML object>",
      "text/html": " View project at <a href='https://wandb.ai/swiss-birder/Baseline' target=\"_blank\">https://wandb.ai/swiss-birder/Baseline</a>"
     },
     "metadata": {},
     "output_type": "display_data"
    },
    {
     "data": {
      "text/plain": "<IPython.core.display.HTML object>",
      "text/html": " View sweep at <a href='https://wandb.ai/swiss-birder/Baseline/sweeps/p2kdwd1j' target=\"_blank\">https://wandb.ai/swiss-birder/Baseline/sweeps/p2kdwd1j</a>"
     },
     "metadata": {},
     "output_type": "display_data"
    },
    {
     "data": {
      "text/plain": "<IPython.core.display.HTML object>",
      "text/html": " View run at <a href='https://wandb.ai/swiss-birder/Baseline/runs/jencoun9/workspace' target=\"_blank\">https://wandb.ai/swiss-birder/Baseline/runs/jencoun9/workspace</a>"
     },
     "metadata": {},
     "output_type": "display_data"
    },
    {
     "name": "stdout",
     "output_type": "stream",
     "text": [
      "Finished Training\n",
      "Accuracy: 0.53, Total items: 40\n"
     ]
    },
    {
     "data": {
      "text/plain": "VBox(children=(Label(value='0.001 MB of 0.001 MB uploaded\\r'), FloatProgress(value=1.0, max=1.0)))",
      "application/vnd.jupyter.widget-view+json": {
       "version_major": 2,
       "version_minor": 0,
       "model_id": "4fb77729e71842179f94e57118d019d2"
      }
     },
     "metadata": {},
     "output_type": "display_data"
    },
    {
     "data": {
      "text/plain": "<IPython.core.display.HTML object>",
      "text/html": "<style>\n    table.wandb td:nth-child(1) { padding: 0 10px; text-align: left ; width: auto;} td:nth-child(2) {text-align: left ; width: 100%}\n    .wandb-row { display: flex; flex-direction: row; flex-wrap: wrap; justify-content: flex-start; width: 100% }\n    .wandb-col { display: flex; flex-direction: column; flex-basis: 100%; flex: 1; padding: 10px; }\n    </style>\n<div class=\"wandb-row\"><div class=\"wandb-col\"><h3>Run history:</h3><br/><table class=\"wandb\"><tr><td>Accuracy</td><td>▅▂▆▃▃▄▃▄▄▁▃▅▂▁▆▆█▇█</td></tr><tr><td>Loss</td><td>▁▁▁▁▄▅█▆▂▁▁▁▁▁▁▁▁▁▁</td></tr><tr><td>total_prediction</td><td>▁</td></tr><tr><td>val_acc</td><td>▁</td></tr></table><br/></div><div class=\"wandb-col\"><h3>Run summary:</h3><br/><table class=\"wandb\"><tr><td>Accuracy</td><td>0.63125</td></tr><tr><td>Loss</td><td>0.64105</td></tr><tr><td>total_prediction</td><td>40</td></tr><tr><td>val_acc</td><td>0.525</td></tr></table><br/></div></div>"
     },
     "metadata": {},
     "output_type": "display_data"
    },
    {
     "data": {
      "text/plain": "<IPython.core.display.HTML object>",
      "text/html": " View run <strong style=\"color:#cdcd00\">tough-sweep-4</strong> at: <a href='https://wandb.ai/swiss-birder/Baseline/runs/jencoun9/workspace' target=\"_blank\">https://wandb.ai/swiss-birder/Baseline/runs/jencoun9/workspace</a><br/>Synced 5 W&B file(s), 0 media file(s), 0 artifact file(s) and 0 other file(s)"
     },
     "metadata": {},
     "output_type": "display_data"
    },
    {
     "data": {
      "text/plain": "<IPython.core.display.HTML object>",
      "text/html": "Find logs at: <code>.\\wandb\\run-20240417_180819-jencoun9\\logs</code>"
     },
     "metadata": {},
     "output_type": "display_data"
    },
    {
     "name": "stderr",
     "output_type": "stream",
     "text": [
      "Run jencoun9 errored:\n",
      "Traceback (most recent call last):\n",
      "  File \"C:\\code\\dspro2\\.venv\\lib\\site-packages\\wandb\\agents\\pyagent.py\", line 308, in _run_job\n",
      "    self._function()\n",
      "  File \"C:\\Users\\fende\\AppData\\Local\\Temp\\ipykernel_20384\\1851611840.py\", line 36, in train\n",
      "    torch.onnx.export(model, torch.randn(1, 1, 128, 201), \"model.onnx\")\n",
      "  File \"C:\\code\\dspro2\\.venv\\lib\\site-packages\\torch\\onnx\\utils.py\", line 516, in export\n",
      "    _export(\n",
      "  File \"C:\\code\\dspro2\\.venv\\lib\\site-packages\\torch\\onnx\\utils.py\", line 1613, in _export\n",
      "    graph, params_dict, torch_out = _model_to_graph(\n",
      "  File \"C:\\code\\dspro2\\.venv\\lib\\site-packages\\torch\\onnx\\utils.py\", line 1135, in _model_to_graph\n",
      "    graph, params, torch_out, module = _create_jit_graph(model, args)\n",
      "  File \"C:\\code\\dspro2\\.venv\\lib\\site-packages\\torch\\onnx\\utils.py\", line 1011, in _create_jit_graph\n",
      "    graph, torch_out = _trace_and_get_graph_from_model(model, args)\n",
      "  File \"C:\\code\\dspro2\\.venv\\lib\\site-packages\\torch\\onnx\\utils.py\", line 915, in _trace_and_get_graph_from_model\n",
      "    trace_graph, torch_out, inputs_states = torch.jit._get_trace_graph(\n",
      "  File \"C:\\code\\dspro2\\.venv\\lib\\site-packages\\torch\\jit\\_trace.py\", line 1296, in _get_trace_graph\n",
      "    outs = ONNXTracedModule(\n",
      "  File \"C:\\code\\dspro2\\.venv\\lib\\site-packages\\torch\\nn\\modules\\module.py\", line 1511, in _wrapped_call_impl\n",
      "    return self._call_impl(*args, **kwargs)\n",
      "  File \"C:\\code\\dspro2\\.venv\\lib\\site-packages\\torch\\nn\\modules\\module.py\", line 1520, in _call_impl\n",
      "    return forward_call(*args, **kwargs)\n",
      "  File \"C:\\code\\dspro2\\.venv\\lib\\site-packages\\torch\\jit\\_trace.py\", line 138, in forward\n",
      "    graph, out = torch._C._create_graph_by_tracing(\n",
      "  File \"C:\\code\\dspro2\\.venv\\lib\\site-packages\\torch\\jit\\_trace.py\", line 129, in wrapper\n",
      "    outs.append(self.inner(*trace_inputs))\n",
      "  File \"C:\\code\\dspro2\\.venv\\lib\\site-packages\\torch\\nn\\modules\\module.py\", line 1511, in _wrapped_call_impl\n",
      "    return self._call_impl(*args, **kwargs)\n",
      "  File \"C:\\code\\dspro2\\.venv\\lib\\site-packages\\torch\\nn\\modules\\module.py\", line 1520, in _call_impl\n",
      "    return forward_call(*args, **kwargs)\n",
      "  File \"C:\\code\\dspro2\\.venv\\lib\\site-packages\\torch\\nn\\modules\\module.py\", line 1501, in _slow_forward\n",
      "    result = self.forward(*input, **kwargs)\n",
      "  File \"C:\\code\\dspro2\\src\\Baseline.py\", line 113, in forward\n",
      "    x = self.conv(x)\n",
      "  File \"C:\\code\\dspro2\\.venv\\lib\\site-packages\\torch\\nn\\modules\\module.py\", line 1511, in _wrapped_call_impl\n",
      "    return self._call_impl(*args, **kwargs)\n",
      "  File \"C:\\code\\dspro2\\.venv\\lib\\site-packages\\torch\\nn\\modules\\module.py\", line 1520, in _call_impl\n",
      "    return forward_call(*args, **kwargs)\n",
      "  File \"C:\\code\\dspro2\\.venv\\lib\\site-packages\\torch\\nn\\modules\\module.py\", line 1501, in _slow_forward\n",
      "    result = self.forward(*input, **kwargs)\n",
      "  File \"C:\\code\\dspro2\\.venv\\lib\\site-packages\\torch\\nn\\modules\\container.py\", line 217, in forward\n",
      "    input = module(input)\n",
      "  File \"C:\\code\\dspro2\\.venv\\lib\\site-packages\\torch\\nn\\modules\\module.py\", line 1511, in _wrapped_call_impl\n",
      "    return self._call_impl(*args, **kwargs)\n",
      "  File \"C:\\code\\dspro2\\.venv\\lib\\site-packages\\torch\\nn\\modules\\module.py\", line 1520, in _call_impl\n",
      "    return forward_call(*args, **kwargs)\n",
      "  File \"C:\\code\\dspro2\\.venv\\lib\\site-packages\\torch\\nn\\modules\\module.py\", line 1501, in _slow_forward\n",
      "    result = self.forward(*input, **kwargs)\n",
      "  File \"C:\\code\\dspro2\\.venv\\lib\\site-packages\\torch\\nn\\modules\\conv.py\", line 460, in forward\n",
      "    return self._conv_forward(input, self.weight, self.bias)\n",
      "  File \"C:\\code\\dspro2\\.venv\\lib\\site-packages\\torch\\nn\\modules\\conv.py\", line 456, in _conv_forward\n",
      "    return F.conv2d(input, weight, bias, self.stride,\n",
      "RuntimeError: Given groups=1, weight of size [8, 2, 5, 5], expected input[1, 1, 128, 201] to have 2 channels, but got 1 channels instead\n",
      "\n",
      "wandb: ERROR Run jencoun9 errored:\n",
      "wandb: ERROR Traceback (most recent call last):\n",
      "wandb: ERROR   File \"C:\\code\\dspro2\\.venv\\lib\\site-packages\\wandb\\agents\\pyagent.py\", line 308, in _run_job\n",
      "wandb: ERROR     self._function()\n",
      "wandb: ERROR   File \"C:\\Users\\fende\\AppData\\Local\\Temp\\ipykernel_20384\\1851611840.py\", line 36, in train\n",
      "wandb: ERROR     torch.onnx.export(model, torch.randn(1, 1, 128, 201), \"model.onnx\")\n",
      "wandb: ERROR   File \"C:\\code\\dspro2\\.venv\\lib\\site-packages\\torch\\onnx\\utils.py\", line 516, in export\n",
      "wandb: ERROR     _export(\n",
      "wandb: ERROR   File \"C:\\code\\dspro2\\.venv\\lib\\site-packages\\torch\\onnx\\utils.py\", line 1613, in _export\n",
      "wandb: ERROR     graph, params_dict, torch_out = _model_to_graph(\n",
      "wandb: ERROR   File \"C:\\code\\dspro2\\.venv\\lib\\site-packages\\torch\\onnx\\utils.py\", line 1135, in _model_to_graph\n",
      "wandb: ERROR     graph, params, torch_out, module = _create_jit_graph(model, args)\n",
      "wandb: ERROR   File \"C:\\code\\dspro2\\.venv\\lib\\site-packages\\torch\\onnx\\utils.py\", line 1011, in _create_jit_graph\n",
      "wandb: ERROR     graph, torch_out = _trace_and_get_graph_from_model(model, args)\n",
      "wandb: ERROR   File \"C:\\code\\dspro2\\.venv\\lib\\site-packages\\torch\\onnx\\utils.py\", line 915, in _trace_and_get_graph_from_model\n",
      "wandb: ERROR     trace_graph, torch_out, inputs_states = torch.jit._get_trace_graph(\n",
      "wandb: ERROR   File \"C:\\code\\dspro2\\.venv\\lib\\site-packages\\torch\\jit\\_trace.py\", line 1296, in _get_trace_graph\n",
      "wandb: ERROR     outs = ONNXTracedModule(\n",
      "wandb: ERROR   File \"C:\\code\\dspro2\\.venv\\lib\\site-packages\\torch\\nn\\modules\\module.py\", line 1511, in _wrapped_call_impl\n",
      "wandb: ERROR     return self._call_impl(*args, **kwargs)\n",
      "wandb: ERROR   File \"C:\\code\\dspro2\\.venv\\lib\\site-packages\\torch\\nn\\modules\\module.py\", line 1520, in _call_impl\n",
      "wandb: ERROR     return forward_call(*args, **kwargs)\n",
      "wandb: ERROR   File \"C:\\code\\dspro2\\.venv\\lib\\site-packages\\torch\\jit\\_trace.py\", line 138, in forward\n",
      "wandb: ERROR     graph, out = torch._C._create_graph_by_tracing(\n",
      "wandb: ERROR   File \"C:\\code\\dspro2\\.venv\\lib\\site-packages\\torch\\jit\\_trace.py\", line 129, in wrapper\n",
      "wandb: ERROR     outs.append(self.inner(*trace_inputs))\n",
      "wandb: ERROR   File \"C:\\code\\dspro2\\.venv\\lib\\site-packages\\torch\\nn\\modules\\module.py\", line 1511, in _wrapped_call_impl\n",
      "wandb: ERROR     return self._call_impl(*args, **kwargs)\n",
      "wandb: ERROR   File \"C:\\code\\dspro2\\.venv\\lib\\site-packages\\torch\\nn\\modules\\module.py\", line 1520, in _call_impl\n",
      "wandb: ERROR     return forward_call(*args, **kwargs)\n",
      "wandb: ERROR   File \"C:\\code\\dspro2\\.venv\\lib\\site-packages\\torch\\nn\\modules\\module.py\", line 1501, in _slow_forward\n",
      "wandb: ERROR     result = self.forward(*input, **kwargs)\n",
      "wandb: ERROR   File \"C:\\code\\dspro2\\src\\Baseline.py\", line 113, in forward\n",
      "wandb: ERROR     x = self.conv(x)\n",
      "wandb: ERROR   File \"C:\\code\\dspro2\\.venv\\lib\\site-packages\\torch\\nn\\modules\\module.py\", line 1511, in _wrapped_call_impl\n",
      "wandb: ERROR     return self._call_impl(*args, **kwargs)\n",
      "wandb: ERROR   File \"C:\\code\\dspro2\\.venv\\lib\\site-packages\\torch\\nn\\modules\\module.py\", line 1520, in _call_impl\n",
      "wandb: ERROR     return forward_call(*args, **kwargs)\n",
      "wandb: ERROR   File \"C:\\code\\dspro2\\.venv\\lib\\site-packages\\torch\\nn\\modules\\module.py\", line 1501, in _slow_forward\n",
      "wandb: ERROR     result = self.forward(*input, **kwargs)\n",
      "wandb: ERROR   File \"C:\\code\\dspro2\\.venv\\lib\\site-packages\\torch\\nn\\modules\\container.py\", line 217, in forward\n",
      "wandb: ERROR     input = module(input)\n",
      "wandb: ERROR   File \"C:\\code\\dspro2\\.venv\\lib\\site-packages\\torch\\nn\\modules\\module.py\", line 1511, in _wrapped_call_impl\n",
      "wandb: ERROR     return self._call_impl(*args, **kwargs)\n",
      "wandb: ERROR   File \"C:\\code\\dspro2\\.venv\\lib\\site-packages\\torch\\nn\\modules\\module.py\", line 1520, in _call_impl\n",
      "wandb: ERROR     return forward_call(*args, **kwargs)\n",
      "wandb: ERROR   File \"C:\\code\\dspro2\\.venv\\lib\\site-packages\\torch\\nn\\modules\\module.py\", line 1501, in _slow_forward\n",
      "wandb: ERROR     result = self.forward(*input, **kwargs)\n",
      "wandb: ERROR   File \"C:\\code\\dspro2\\.venv\\lib\\site-packages\\torch\\nn\\modules\\conv.py\", line 460, in forward\n",
      "wandb: ERROR     return self._conv_forward(input, self.weight, self.bias)\n",
      "wandb: ERROR   File \"C:\\code\\dspro2\\.venv\\lib\\site-packages\\torch\\nn\\modules\\conv.py\", line 456, in _conv_forward\n",
      "wandb: ERROR     return F.conv2d(input, weight, bias, self.stride,\n",
      "wandb: ERROR RuntimeError: Given groups=1, weight of size [8, 2, 5, 5], expected input[1, 1, 128, 201] to have 2 channels, but got 1 channels instead\n",
      "wandb: ERROR \n",
      "wandb: Sweep Agent: Waiting for job.\n",
      "wandb: Job received.\n",
      "wandb: Agent Starting Run: 21xxutbr with config:\n",
      "wandb: \tanneal_strategy: linear\n",
      "wandb: \tbatch_size_train: 32\n",
      "wandb: \tbatch_size_val: 32\n",
      "wandb: \tepochs: 7\n",
      "wandb: \tlearning_rate: 1.028635634245892\n"
     ]
    },
    {
     "data": {
      "text/plain": "<IPython.core.display.HTML object>",
      "text/html": "wandb version 0.16.6 is available!  To upgrade, please run:\n $ pip install wandb --upgrade"
     },
     "metadata": {},
     "output_type": "display_data"
    },
    {
     "data": {
      "text/plain": "<IPython.core.display.HTML object>",
      "text/html": "Tracking run with wandb version 0.16.5"
     },
     "metadata": {},
     "output_type": "display_data"
    },
    {
     "data": {
      "text/plain": "<IPython.core.display.HTML object>",
      "text/html": "Run data is saved locally in <code>C:\\code\\dspro2\\wandb\\run-20240417_181121-21xxutbr</code>"
     },
     "metadata": {},
     "output_type": "display_data"
    },
    {
     "data": {
      "text/plain": "<IPython.core.display.HTML object>",
      "text/html": "Syncing run <strong><a href='https://wandb.ai/swiss-birder/Baseline/runs/21xxutbr/workspace' target=\"_blank\">olive-sweep-5</a></strong> to <a href='https://wandb.ai/swiss-birder/Baseline' target=\"_blank\">Weights & Biases</a> (<a href='https://wandb.me/run' target=\"_blank\">docs</a>)<br/>Sweep page: <a href='https://wandb.ai/swiss-birder/Baseline/sweeps/p2kdwd1j' target=\"_blank\">https://wandb.ai/swiss-birder/Baseline/sweeps/p2kdwd1j</a>"
     },
     "metadata": {},
     "output_type": "display_data"
    },
    {
     "data": {
      "text/plain": "<IPython.core.display.HTML object>",
      "text/html": " View project at <a href='https://wandb.ai/swiss-birder/Baseline' target=\"_blank\">https://wandb.ai/swiss-birder/Baseline</a>"
     },
     "metadata": {},
     "output_type": "display_data"
    },
    {
     "data": {
      "text/plain": "<IPython.core.display.HTML object>",
      "text/html": " View sweep at <a href='https://wandb.ai/swiss-birder/Baseline/sweeps/p2kdwd1j' target=\"_blank\">https://wandb.ai/swiss-birder/Baseline/sweeps/p2kdwd1j</a>"
     },
     "metadata": {},
     "output_type": "display_data"
    },
    {
     "data": {
      "text/plain": "<IPython.core.display.HTML object>",
      "text/html": " View run at <a href='https://wandb.ai/swiss-birder/Baseline/runs/21xxutbr/workspace' target=\"_blank\">https://wandb.ai/swiss-birder/Baseline/runs/21xxutbr/workspace</a>"
     },
     "metadata": {},
     "output_type": "display_data"
    },
    {
     "name": "stdout",
     "output_type": "stream",
     "text": [
      "Finished Training\n",
      "Accuracy: 0.50, Total items: 40\n"
     ]
    },
    {
     "data": {
      "text/plain": "VBox(children=(Label(value='0.001 MB of 0.001 MB uploaded\\r'), FloatProgress(value=1.0, max=1.0)))",
      "application/vnd.jupyter.widget-view+json": {
       "version_major": 2,
       "version_minor": 0,
       "model_id": "795799fb17234a1881b48306452a71e4"
      }
     },
     "metadata": {},
     "output_type": "display_data"
    },
    {
     "data": {
      "text/plain": "<IPython.core.display.HTML object>",
      "text/html": "<style>\n    table.wandb td:nth-child(1) { padding: 0 10px; text-align: left ; width: auto;} td:nth-child(2) {text-align: left ; width: 100%}\n    .wandb-row { display: flex; flex-direction: row; flex-wrap: wrap; justify-content: flex-start; width: 100% }\n    .wandb-col { display: flex; flex-direction: column; flex-basis: 100%; flex: 1; padding: 10px; }\n    </style>\n<div class=\"wandb-row\"><div class=\"wandb-col\"><h3>Run history:</h3><br/><table class=\"wandb\"><tr><td>Accuracy</td><td>▁▄██▆▅▆</td></tr><tr><td>Loss</td><td>▁▁██▇▄▄</td></tr><tr><td>total_prediction</td><td>▁</td></tr><tr><td>val_acc</td><td>▁</td></tr></table><br/></div><div class=\"wandb-col\"><h3>Run summary:</h3><br/><table class=\"wandb\"><tr><td>Accuracy</td><td>0.5</td></tr><tr><td>Loss</td><td>5.58548</td></tr><tr><td>total_prediction</td><td>40</td></tr><tr><td>val_acc</td><td>0.5</td></tr></table><br/></div></div>"
     },
     "metadata": {},
     "output_type": "display_data"
    },
    {
     "data": {
      "text/plain": "<IPython.core.display.HTML object>",
      "text/html": " View run <strong style=\"color:#cdcd00\">olive-sweep-5</strong> at: <a href='https://wandb.ai/swiss-birder/Baseline/runs/21xxutbr/workspace' target=\"_blank\">https://wandb.ai/swiss-birder/Baseline/runs/21xxutbr/workspace</a><br/>Synced 5 W&B file(s), 0 media file(s), 0 artifact file(s) and 0 other file(s)"
     },
     "metadata": {},
     "output_type": "display_data"
    },
    {
     "data": {
      "text/plain": "<IPython.core.display.HTML object>",
      "text/html": "Find logs at: <code>.\\wandb\\run-20240417_181121-21xxutbr\\logs</code>"
     },
     "metadata": {},
     "output_type": "display_data"
    },
    {
     "name": "stderr",
     "output_type": "stream",
     "text": [
      "Run 21xxutbr errored:\n",
      "Traceback (most recent call last):\n",
      "  File \"C:\\code\\dspro2\\.venv\\lib\\site-packages\\wandb\\agents\\pyagent.py\", line 308, in _run_job\n",
      "    self._function()\n",
      "  File \"C:\\Users\\fende\\AppData\\Local\\Temp\\ipykernel_20384\\1851611840.py\", line 36, in train\n",
      "    torch.onnx.export(model, torch.randn(1, 1, 128, 201), \"model.onnx\")\n",
      "  File \"C:\\code\\dspro2\\.venv\\lib\\site-packages\\torch\\onnx\\utils.py\", line 516, in export\n",
      "    _export(\n",
      "  File \"C:\\code\\dspro2\\.venv\\lib\\site-packages\\torch\\onnx\\utils.py\", line 1613, in _export\n",
      "    graph, params_dict, torch_out = _model_to_graph(\n",
      "  File \"C:\\code\\dspro2\\.venv\\lib\\site-packages\\torch\\onnx\\utils.py\", line 1135, in _model_to_graph\n",
      "    graph, params, torch_out, module = _create_jit_graph(model, args)\n",
      "  File \"C:\\code\\dspro2\\.venv\\lib\\site-packages\\torch\\onnx\\utils.py\", line 1011, in _create_jit_graph\n",
      "    graph, torch_out = _trace_and_get_graph_from_model(model, args)\n",
      "  File \"C:\\code\\dspro2\\.venv\\lib\\site-packages\\torch\\onnx\\utils.py\", line 915, in _trace_and_get_graph_from_model\n",
      "    trace_graph, torch_out, inputs_states = torch.jit._get_trace_graph(\n",
      "  File \"C:\\code\\dspro2\\.venv\\lib\\site-packages\\torch\\jit\\_trace.py\", line 1296, in _get_trace_graph\n",
      "    outs = ONNXTracedModule(\n",
      "  File \"C:\\code\\dspro2\\.venv\\lib\\site-packages\\torch\\nn\\modules\\module.py\", line 1511, in _wrapped_call_impl\n",
      "    return self._call_impl(*args, **kwargs)\n",
      "  File \"C:\\code\\dspro2\\.venv\\lib\\site-packages\\torch\\nn\\modules\\module.py\", line 1520, in _call_impl\n",
      "    return forward_call(*args, **kwargs)\n",
      "  File \"C:\\code\\dspro2\\.venv\\lib\\site-packages\\torch\\jit\\_trace.py\", line 138, in forward\n",
      "    graph, out = torch._C._create_graph_by_tracing(\n",
      "  File \"C:\\code\\dspro2\\.venv\\lib\\site-packages\\torch\\jit\\_trace.py\", line 129, in wrapper\n",
      "    outs.append(self.inner(*trace_inputs))\n",
      "  File \"C:\\code\\dspro2\\.venv\\lib\\site-packages\\torch\\nn\\modules\\module.py\", line 1511, in _wrapped_call_impl\n",
      "    return self._call_impl(*args, **kwargs)\n",
      "  File \"C:\\code\\dspro2\\.venv\\lib\\site-packages\\torch\\nn\\modules\\module.py\", line 1520, in _call_impl\n",
      "    return forward_call(*args, **kwargs)\n",
      "  File \"C:\\code\\dspro2\\.venv\\lib\\site-packages\\torch\\nn\\modules\\module.py\", line 1501, in _slow_forward\n",
      "    result = self.forward(*input, **kwargs)\n",
      "  File \"C:\\code\\dspro2\\src\\Baseline.py\", line 113, in forward\n",
      "    x = self.conv(x)\n",
      "  File \"C:\\code\\dspro2\\.venv\\lib\\site-packages\\torch\\nn\\modules\\module.py\", line 1511, in _wrapped_call_impl\n",
      "    return self._call_impl(*args, **kwargs)\n",
      "  File \"C:\\code\\dspro2\\.venv\\lib\\site-packages\\torch\\nn\\modules\\module.py\", line 1520, in _call_impl\n",
      "    return forward_call(*args, **kwargs)\n",
      "  File \"C:\\code\\dspro2\\.venv\\lib\\site-packages\\torch\\nn\\modules\\module.py\", line 1501, in _slow_forward\n",
      "    result = self.forward(*input, **kwargs)\n",
      "  File \"C:\\code\\dspro2\\.venv\\lib\\site-packages\\torch\\nn\\modules\\container.py\", line 217, in forward\n",
      "    input = module(input)\n",
      "  File \"C:\\code\\dspro2\\.venv\\lib\\site-packages\\torch\\nn\\modules\\module.py\", line 1511, in _wrapped_call_impl\n",
      "    return self._call_impl(*args, **kwargs)\n",
      "  File \"C:\\code\\dspro2\\.venv\\lib\\site-packages\\torch\\nn\\modules\\module.py\", line 1520, in _call_impl\n",
      "    return forward_call(*args, **kwargs)\n",
      "  File \"C:\\code\\dspro2\\.venv\\lib\\site-packages\\torch\\nn\\modules\\module.py\", line 1501, in _slow_forward\n",
      "    result = self.forward(*input, **kwargs)\n",
      "  File \"C:\\code\\dspro2\\.venv\\lib\\site-packages\\torch\\nn\\modules\\conv.py\", line 460, in forward\n",
      "    return self._conv_forward(input, self.weight, self.bias)\n",
      "  File \"C:\\code\\dspro2\\.venv\\lib\\site-packages\\torch\\nn\\modules\\conv.py\", line 456, in _conv_forward\n",
      "    return F.conv2d(input, weight, bias, self.stride,\n",
      "RuntimeError: Given groups=1, weight of size [8, 2, 5, 5], expected input[1, 1, 128, 201] to have 2 channels, but got 1 channels instead\n",
      "\n",
      "wandb: ERROR Run 21xxutbr errored:\n",
      "wandb: ERROR Traceback (most recent call last):\n",
      "wandb: ERROR   File \"C:\\code\\dspro2\\.venv\\lib\\site-packages\\wandb\\agents\\pyagent.py\", line 308, in _run_job\n",
      "wandb: ERROR     self._function()\n",
      "wandb: ERROR   File \"C:\\Users\\fende\\AppData\\Local\\Temp\\ipykernel_20384\\1851611840.py\", line 36, in train\n",
      "wandb: ERROR     torch.onnx.export(model, torch.randn(1, 1, 128, 201), \"model.onnx\")\n",
      "wandb: ERROR   File \"C:\\code\\dspro2\\.venv\\lib\\site-packages\\torch\\onnx\\utils.py\", line 516, in export\n",
      "wandb: ERROR     _export(\n",
      "wandb: ERROR   File \"C:\\code\\dspro2\\.venv\\lib\\site-packages\\torch\\onnx\\utils.py\", line 1613, in _export\n",
      "wandb: ERROR     graph, params_dict, torch_out = _model_to_graph(\n",
      "wandb: ERROR   File \"C:\\code\\dspro2\\.venv\\lib\\site-packages\\torch\\onnx\\utils.py\", line 1135, in _model_to_graph\n",
      "wandb: ERROR     graph, params, torch_out, module = _create_jit_graph(model, args)\n",
      "wandb: ERROR   File \"C:\\code\\dspro2\\.venv\\lib\\site-packages\\torch\\onnx\\utils.py\", line 1011, in _create_jit_graph\n",
      "wandb: ERROR     graph, torch_out = _trace_and_get_graph_from_model(model, args)\n",
      "wandb: ERROR   File \"C:\\code\\dspro2\\.venv\\lib\\site-packages\\torch\\onnx\\utils.py\", line 915, in _trace_and_get_graph_from_model\n",
      "wandb: ERROR     trace_graph, torch_out, inputs_states = torch.jit._get_trace_graph(\n",
      "wandb: ERROR   File \"C:\\code\\dspro2\\.venv\\lib\\site-packages\\torch\\jit\\_trace.py\", line 1296, in _get_trace_graph\n",
      "wandb: ERROR     outs = ONNXTracedModule(\n",
      "wandb: ERROR   File \"C:\\code\\dspro2\\.venv\\lib\\site-packages\\torch\\nn\\modules\\module.py\", line 1511, in _wrapped_call_impl\n",
      "wandb: ERROR     return self._call_impl(*args, **kwargs)\n",
      "wandb: ERROR   File \"C:\\code\\dspro2\\.venv\\lib\\site-packages\\torch\\nn\\modules\\module.py\", line 1520, in _call_impl\n",
      "wandb: ERROR     return forward_call(*args, **kwargs)\n",
      "wandb: ERROR   File \"C:\\code\\dspro2\\.venv\\lib\\site-packages\\torch\\jit\\_trace.py\", line 138, in forward\n",
      "wandb: ERROR     graph, out = torch._C._create_graph_by_tracing(\n",
      "wandb: ERROR   File \"C:\\code\\dspro2\\.venv\\lib\\site-packages\\torch\\jit\\_trace.py\", line 129, in wrapper\n",
      "wandb: ERROR     outs.append(self.inner(*trace_inputs))\n",
      "wandb: ERROR   File \"C:\\code\\dspro2\\.venv\\lib\\site-packages\\torch\\nn\\modules\\module.py\", line 1511, in _wrapped_call_impl\n",
      "wandb: ERROR     return self._call_impl(*args, **kwargs)\n",
      "wandb: ERROR   File \"C:\\code\\dspro2\\.venv\\lib\\site-packages\\torch\\nn\\modules\\module.py\", line 1520, in _call_impl\n",
      "wandb: ERROR     return forward_call(*args, **kwargs)\n",
      "wandb: ERROR   File \"C:\\code\\dspro2\\.venv\\lib\\site-packages\\torch\\nn\\modules\\module.py\", line 1501, in _slow_forward\n",
      "wandb: ERROR     result = self.forward(*input, **kwargs)\n",
      "wandb: ERROR   File \"C:\\code\\dspro2\\src\\Baseline.py\", line 113, in forward\n",
      "wandb: ERROR     x = self.conv(x)\n",
      "wandb: ERROR   File \"C:\\code\\dspro2\\.venv\\lib\\site-packages\\torch\\nn\\modules\\module.py\", line 1511, in _wrapped_call_impl\n",
      "wandb: ERROR     return self._call_impl(*args, **kwargs)\n",
      "wandb: ERROR   File \"C:\\code\\dspro2\\.venv\\lib\\site-packages\\torch\\nn\\modules\\module.py\", line 1520, in _call_impl\n",
      "wandb: ERROR     return forward_call(*args, **kwargs)\n",
      "wandb: ERROR   File \"C:\\code\\dspro2\\.venv\\lib\\site-packages\\torch\\nn\\modules\\module.py\", line 1501, in _slow_forward\n",
      "wandb: ERROR     result = self.forward(*input, **kwargs)\n",
      "wandb: ERROR   File \"C:\\code\\dspro2\\.venv\\lib\\site-packages\\torch\\nn\\modules\\container.py\", line 217, in forward\n",
      "wandb: ERROR     input = module(input)\n",
      "wandb: ERROR   File \"C:\\code\\dspro2\\.venv\\lib\\site-packages\\torch\\nn\\modules\\module.py\", line 1511, in _wrapped_call_impl\n",
      "wandb: ERROR     return self._call_impl(*args, **kwargs)\n",
      "wandb: ERROR   File \"C:\\code\\dspro2\\.venv\\lib\\site-packages\\torch\\nn\\modules\\module.py\", line 1520, in _call_impl\n",
      "wandb: ERROR     return forward_call(*args, **kwargs)\n",
      "wandb: ERROR   File \"C:\\code\\dspro2\\.venv\\lib\\site-packages\\torch\\nn\\modules\\module.py\", line 1501, in _slow_forward\n",
      "wandb: ERROR     result = self.forward(*input, **kwargs)\n",
      "wandb: ERROR   File \"C:\\code\\dspro2\\.venv\\lib\\site-packages\\torch\\nn\\modules\\conv.py\", line 460, in forward\n",
      "wandb: ERROR     return self._conv_forward(input, self.weight, self.bias)\n",
      "wandb: ERROR   File \"C:\\code\\dspro2\\.venv\\lib\\site-packages\\torch\\nn\\modules\\conv.py\", line 456, in _conv_forward\n",
      "wandb: ERROR     return F.conv2d(input, weight, bias, self.stride,\n",
      "wandb: ERROR RuntimeError: Given groups=1, weight of size [8, 2, 5, 5], expected input[1, 1, 128, 201] to have 2 channels, but got 1 channels instead\n",
      "wandb: ERROR \n",
      "wandb: Sweep Agent: Waiting for job.\n",
      "wandb: Job received.\n",
      "wandb: Agent Starting Run: s8jsyr19 with config:\n",
      "wandb: \tanneal_strategy: linear\n",
      "wandb: \tbatch_size_train: 32\n",
      "wandb: \tbatch_size_val: 64\n",
      "wandb: \tepochs: 9\n",
      "wandb: \tlearning_rate: 1.0059569236643404\n"
     ]
    },
    {
     "data": {
      "text/plain": "<IPython.core.display.HTML object>",
      "text/html": "wandb version 0.16.6 is available!  To upgrade, please run:\n $ pip install wandb --upgrade"
     },
     "metadata": {},
     "output_type": "display_data"
    },
    {
     "data": {
      "text/plain": "<IPython.core.display.HTML object>",
      "text/html": "Tracking run with wandb version 0.16.5"
     },
     "metadata": {},
     "output_type": "display_data"
    },
    {
     "data": {
      "text/plain": "<IPython.core.display.HTML object>",
      "text/html": "Run data is saved locally in <code>C:\\code\\dspro2\\wandb\\run-20240417_181233-s8jsyr19</code>"
     },
     "metadata": {},
     "output_type": "display_data"
    },
    {
     "data": {
      "text/plain": "<IPython.core.display.HTML object>",
      "text/html": "Syncing run <strong><a href='https://wandb.ai/swiss-birder/Baseline/runs/s8jsyr19/workspace' target=\"_blank\">sunny-sweep-6</a></strong> to <a href='https://wandb.ai/swiss-birder/Baseline' target=\"_blank\">Weights & Biases</a> (<a href='https://wandb.me/run' target=\"_blank\">docs</a>)<br/>Sweep page: <a href='https://wandb.ai/swiss-birder/Baseline/sweeps/p2kdwd1j' target=\"_blank\">https://wandb.ai/swiss-birder/Baseline/sweeps/p2kdwd1j</a>"
     },
     "metadata": {},
     "output_type": "display_data"
    },
    {
     "data": {
      "text/plain": "<IPython.core.display.HTML object>",
      "text/html": " View project at <a href='https://wandb.ai/swiss-birder/Baseline' target=\"_blank\">https://wandb.ai/swiss-birder/Baseline</a>"
     },
     "metadata": {},
     "output_type": "display_data"
    },
    {
     "data": {
      "text/plain": "<IPython.core.display.HTML object>",
      "text/html": " View sweep at <a href='https://wandb.ai/swiss-birder/Baseline/sweeps/p2kdwd1j' target=\"_blank\">https://wandb.ai/swiss-birder/Baseline/sweeps/p2kdwd1j</a>"
     },
     "metadata": {},
     "output_type": "display_data"
    },
    {
     "data": {
      "text/plain": "<IPython.core.display.HTML object>",
      "text/html": " View run at <a href='https://wandb.ai/swiss-birder/Baseline/runs/s8jsyr19/workspace' target=\"_blank\">https://wandb.ai/swiss-birder/Baseline/runs/s8jsyr19/workspace</a>"
     },
     "metadata": {},
     "output_type": "display_data"
    },
    {
     "name": "stdout",
     "output_type": "stream",
     "text": [
      "Finished Training\n",
      "Accuracy: 0.55, Total items: 40\n"
     ]
    },
    {
     "data": {
      "text/plain": "VBox(children=(Label(value='0.001 MB of 0.001 MB uploaded\\r'), FloatProgress(value=1.0, max=1.0)))",
      "application/vnd.jupyter.widget-view+json": {
       "version_major": 2,
       "version_minor": 0,
       "model_id": "db2c3eaf826348819daedf2e0b193c5a"
      }
     },
     "metadata": {},
     "output_type": "display_data"
    },
    {
     "data": {
      "text/plain": "<IPython.core.display.HTML object>",
      "text/html": "<style>\n    table.wandb td:nth-child(1) { padding: 0 10px; text-align: left ; width: auto;} td:nth-child(2) {text-align: left ; width: 100%}\n    .wandb-row { display: flex; flex-direction: row; flex-wrap: wrap; justify-content: flex-start; width: 100% }\n    .wandb-col { display: flex; flex-direction: column; flex-basis: 100%; flex: 1; padding: 10px; }\n    </style>\n<div class=\"wandb-row\"><div class=\"wandb-col\"><h3>Run history:</h3><br/><table class=\"wandb\"><tr><td>Accuracy</td><td>▁▇▅▆▇▆▆█▇</td></tr><tr><td>Loss</td><td>▁▂▃█▃▂▂▁▁</td></tr><tr><td>total_prediction</td><td>▁</td></tr><tr><td>val_acc</td><td>▁</td></tr></table><br/></div><div class=\"wandb-col\"><h3>Run summary:</h3><br/><table class=\"wandb\"><tr><td>Accuracy</td><td>0.5375</td></tr><tr><td>Loss</td><td>2.35393</td></tr><tr><td>total_prediction</td><td>40</td></tr><tr><td>val_acc</td><td>0.55</td></tr></table><br/></div></div>"
     },
     "metadata": {},
     "output_type": "display_data"
    },
    {
     "data": {
      "text/plain": "<IPython.core.display.HTML object>",
      "text/html": " View run <strong style=\"color:#cdcd00\">sunny-sweep-6</strong> at: <a href='https://wandb.ai/swiss-birder/Baseline/runs/s8jsyr19/workspace' target=\"_blank\">https://wandb.ai/swiss-birder/Baseline/runs/s8jsyr19/workspace</a><br/>Synced 5 W&B file(s), 0 media file(s), 0 artifact file(s) and 0 other file(s)"
     },
     "metadata": {},
     "output_type": "display_data"
    },
    {
     "data": {
      "text/plain": "<IPython.core.display.HTML object>",
      "text/html": "Find logs at: <code>.\\wandb\\run-20240417_181233-s8jsyr19\\logs</code>"
     },
     "metadata": {},
     "output_type": "display_data"
    },
    {
     "name": "stderr",
     "output_type": "stream",
     "text": [
      "Run s8jsyr19 errored:\n",
      "Traceback (most recent call last):\n",
      "  File \"C:\\code\\dspro2\\.venv\\lib\\site-packages\\wandb\\agents\\pyagent.py\", line 308, in _run_job\n",
      "    self._function()\n",
      "  File \"C:\\Users\\fende\\AppData\\Local\\Temp\\ipykernel_20384\\1851611840.py\", line 36, in train\n",
      "    torch.onnx.export(model, torch.randn(1, 1, 128, 201), \"model.onnx\")\n",
      "  File \"C:\\code\\dspro2\\.venv\\lib\\site-packages\\torch\\onnx\\utils.py\", line 516, in export\n",
      "    _export(\n",
      "  File \"C:\\code\\dspro2\\.venv\\lib\\site-packages\\torch\\onnx\\utils.py\", line 1613, in _export\n",
      "    graph, params_dict, torch_out = _model_to_graph(\n",
      "  File \"C:\\code\\dspro2\\.venv\\lib\\site-packages\\torch\\onnx\\utils.py\", line 1135, in _model_to_graph\n",
      "    graph, params, torch_out, module = _create_jit_graph(model, args)\n",
      "  File \"C:\\code\\dspro2\\.venv\\lib\\site-packages\\torch\\onnx\\utils.py\", line 1011, in _create_jit_graph\n",
      "    graph, torch_out = _trace_and_get_graph_from_model(model, args)\n",
      "  File \"C:\\code\\dspro2\\.venv\\lib\\site-packages\\torch\\onnx\\utils.py\", line 915, in _trace_and_get_graph_from_model\n",
      "    trace_graph, torch_out, inputs_states = torch.jit._get_trace_graph(\n",
      "  File \"C:\\code\\dspro2\\.venv\\lib\\site-packages\\torch\\jit\\_trace.py\", line 1296, in _get_trace_graph\n",
      "    outs = ONNXTracedModule(\n",
      "  File \"C:\\code\\dspro2\\.venv\\lib\\site-packages\\torch\\nn\\modules\\module.py\", line 1511, in _wrapped_call_impl\n",
      "    return self._call_impl(*args, **kwargs)\n",
      "  File \"C:\\code\\dspro2\\.venv\\lib\\site-packages\\torch\\nn\\modules\\module.py\", line 1520, in _call_impl\n",
      "    return forward_call(*args, **kwargs)\n",
      "  File \"C:\\code\\dspro2\\.venv\\lib\\site-packages\\torch\\jit\\_trace.py\", line 138, in forward\n",
      "    graph, out = torch._C._create_graph_by_tracing(\n",
      "  File \"C:\\code\\dspro2\\.venv\\lib\\site-packages\\torch\\jit\\_trace.py\", line 129, in wrapper\n",
      "    outs.append(self.inner(*trace_inputs))\n",
      "  File \"C:\\code\\dspro2\\.venv\\lib\\site-packages\\torch\\nn\\modules\\module.py\", line 1511, in _wrapped_call_impl\n",
      "    return self._call_impl(*args, **kwargs)\n",
      "  File \"C:\\code\\dspro2\\.venv\\lib\\site-packages\\torch\\nn\\modules\\module.py\", line 1520, in _call_impl\n",
      "    return forward_call(*args, **kwargs)\n",
      "  File \"C:\\code\\dspro2\\.venv\\lib\\site-packages\\torch\\nn\\modules\\module.py\", line 1501, in _slow_forward\n",
      "    result = self.forward(*input, **kwargs)\n",
      "  File \"C:\\code\\dspro2\\src\\Baseline.py\", line 113, in forward\n",
      "    x = self.conv(x)\n",
      "  File \"C:\\code\\dspro2\\.venv\\lib\\site-packages\\torch\\nn\\modules\\module.py\", line 1511, in _wrapped_call_impl\n",
      "    return self._call_impl(*args, **kwargs)\n",
      "  File \"C:\\code\\dspro2\\.venv\\lib\\site-packages\\torch\\nn\\modules\\module.py\", line 1520, in _call_impl\n",
      "    return forward_call(*args, **kwargs)\n",
      "  File \"C:\\code\\dspro2\\.venv\\lib\\site-packages\\torch\\nn\\modules\\module.py\", line 1501, in _slow_forward\n",
      "    result = self.forward(*input, **kwargs)\n",
      "  File \"C:\\code\\dspro2\\.venv\\lib\\site-packages\\torch\\nn\\modules\\container.py\", line 217, in forward\n",
      "    input = module(input)\n",
      "  File \"C:\\code\\dspro2\\.venv\\lib\\site-packages\\torch\\nn\\modules\\module.py\", line 1511, in _wrapped_call_impl\n",
      "    return self._call_impl(*args, **kwargs)\n",
      "  File \"C:\\code\\dspro2\\.venv\\lib\\site-packages\\torch\\nn\\modules\\module.py\", line 1520, in _call_impl\n",
      "    return forward_call(*args, **kwargs)\n",
      "  File \"C:\\code\\dspro2\\.venv\\lib\\site-packages\\torch\\nn\\modules\\module.py\", line 1501, in _slow_forward\n",
      "    result = self.forward(*input, **kwargs)\n",
      "  File \"C:\\code\\dspro2\\.venv\\lib\\site-packages\\torch\\nn\\modules\\conv.py\", line 460, in forward\n",
      "    return self._conv_forward(input, self.weight, self.bias)\n",
      "  File \"C:\\code\\dspro2\\.venv\\lib\\site-packages\\torch\\nn\\modules\\conv.py\", line 456, in _conv_forward\n",
      "    return F.conv2d(input, weight, bias, self.stride,\n",
      "RuntimeError: Given groups=1, weight of size [8, 2, 5, 5], expected input[1, 1, 128, 201] to have 2 channels, but got 1 channels instead\n",
      "\n",
      "wandb: ERROR Run s8jsyr19 errored:\n",
      "wandb: ERROR Traceback (most recent call last):\n",
      "wandb: ERROR   File \"C:\\code\\dspro2\\.venv\\lib\\site-packages\\wandb\\agents\\pyagent.py\", line 308, in _run_job\n",
      "wandb: ERROR     self._function()\n",
      "wandb: ERROR   File \"C:\\Users\\fende\\AppData\\Local\\Temp\\ipykernel_20384\\1851611840.py\", line 36, in train\n",
      "wandb: ERROR     torch.onnx.export(model, torch.randn(1, 1, 128, 201), \"model.onnx\")\n",
      "wandb: ERROR   File \"C:\\code\\dspro2\\.venv\\lib\\site-packages\\torch\\onnx\\utils.py\", line 516, in export\n",
      "wandb: ERROR     _export(\n",
      "wandb: ERROR   File \"C:\\code\\dspro2\\.venv\\lib\\site-packages\\torch\\onnx\\utils.py\", line 1613, in _export\n",
      "wandb: ERROR     graph, params_dict, torch_out = _model_to_graph(\n",
      "wandb: ERROR   File \"C:\\code\\dspro2\\.venv\\lib\\site-packages\\torch\\onnx\\utils.py\", line 1135, in _model_to_graph\n",
      "wandb: ERROR     graph, params, torch_out, module = _create_jit_graph(model, args)\n",
      "wandb: ERROR   File \"C:\\code\\dspro2\\.venv\\lib\\site-packages\\torch\\onnx\\utils.py\", line 1011, in _create_jit_graph\n",
      "wandb: ERROR     graph, torch_out = _trace_and_get_graph_from_model(model, args)\n",
      "wandb: ERROR   File \"C:\\code\\dspro2\\.venv\\lib\\site-packages\\torch\\onnx\\utils.py\", line 915, in _trace_and_get_graph_from_model\n",
      "wandb: ERROR     trace_graph, torch_out, inputs_states = torch.jit._get_trace_graph(\n",
      "wandb: ERROR   File \"C:\\code\\dspro2\\.venv\\lib\\site-packages\\torch\\jit\\_trace.py\", line 1296, in _get_trace_graph\n",
      "wandb: ERROR     outs = ONNXTracedModule(\n",
      "wandb: ERROR   File \"C:\\code\\dspro2\\.venv\\lib\\site-packages\\torch\\nn\\modules\\module.py\", line 1511, in _wrapped_call_impl\n",
      "wandb: ERROR     return self._call_impl(*args, **kwargs)\n",
      "wandb: ERROR   File \"C:\\code\\dspro2\\.venv\\lib\\site-packages\\torch\\nn\\modules\\module.py\", line 1520, in _call_impl\n",
      "wandb: ERROR     return forward_call(*args, **kwargs)\n",
      "wandb: ERROR   File \"C:\\code\\dspro2\\.venv\\lib\\site-packages\\torch\\jit\\_trace.py\", line 138, in forward\n",
      "wandb: ERROR     graph, out = torch._C._create_graph_by_tracing(\n",
      "wandb: ERROR   File \"C:\\code\\dspro2\\.venv\\lib\\site-packages\\torch\\jit\\_trace.py\", line 129, in wrapper\n",
      "wandb: ERROR     outs.append(self.inner(*trace_inputs))\n",
      "wandb: ERROR   File \"C:\\code\\dspro2\\.venv\\lib\\site-packages\\torch\\nn\\modules\\module.py\", line 1511, in _wrapped_call_impl\n",
      "wandb: ERROR     return self._call_impl(*args, **kwargs)\n",
      "wandb: ERROR   File \"C:\\code\\dspro2\\.venv\\lib\\site-packages\\torch\\nn\\modules\\module.py\", line 1520, in _call_impl\n",
      "wandb: ERROR     return forward_call(*args, **kwargs)\n",
      "wandb: ERROR   File \"C:\\code\\dspro2\\.venv\\lib\\site-packages\\torch\\nn\\modules\\module.py\", line 1501, in _slow_forward\n",
      "wandb: ERROR     result = self.forward(*input, **kwargs)\n",
      "wandb: ERROR   File \"C:\\code\\dspro2\\src\\Baseline.py\", line 113, in forward\n",
      "wandb: ERROR     x = self.conv(x)\n",
      "wandb: ERROR   File \"C:\\code\\dspro2\\.venv\\lib\\site-packages\\torch\\nn\\modules\\module.py\", line 1511, in _wrapped_call_impl\n",
      "wandb: ERROR     return self._call_impl(*args, **kwargs)\n",
      "wandb: ERROR   File \"C:\\code\\dspro2\\.venv\\lib\\site-packages\\torch\\nn\\modules\\module.py\", line 1520, in _call_impl\n",
      "wandb: ERROR     return forward_call(*args, **kwargs)\n",
      "wandb: ERROR   File \"C:\\code\\dspro2\\.venv\\lib\\site-packages\\torch\\nn\\modules\\module.py\", line 1501, in _slow_forward\n",
      "wandb: ERROR     result = self.forward(*input, **kwargs)\n",
      "wandb: ERROR   File \"C:\\code\\dspro2\\.venv\\lib\\site-packages\\torch\\nn\\modules\\container.py\", line 217, in forward\n",
      "wandb: ERROR     input = module(input)\n",
      "wandb: ERROR   File \"C:\\code\\dspro2\\.venv\\lib\\site-packages\\torch\\nn\\modules\\module.py\", line 1511, in _wrapped_call_impl\n",
      "wandb: ERROR     return self._call_impl(*args, **kwargs)\n",
      "wandb: ERROR   File \"C:\\code\\dspro2\\.venv\\lib\\site-packages\\torch\\nn\\modules\\module.py\", line 1520, in _call_impl\n",
      "wandb: ERROR     return forward_call(*args, **kwargs)\n",
      "wandb: ERROR   File \"C:\\code\\dspro2\\.venv\\lib\\site-packages\\torch\\nn\\modules\\module.py\", line 1501, in _slow_forward\n",
      "wandb: ERROR     result = self.forward(*input, **kwargs)\n",
      "wandb: ERROR   File \"C:\\code\\dspro2\\.venv\\lib\\site-packages\\torch\\nn\\modules\\conv.py\", line 460, in forward\n",
      "wandb: ERROR     return self._conv_forward(input, self.weight, self.bias)\n",
      "wandb: ERROR   File \"C:\\code\\dspro2\\.venv\\lib\\site-packages\\torch\\nn\\modules\\conv.py\", line 456, in _conv_forward\n",
      "wandb: ERROR     return F.conv2d(input, weight, bias, self.stride,\n",
      "wandb: ERROR RuntimeError: Given groups=1, weight of size [8, 2, 5, 5], expected input[1, 1, 128, 201] to have 2 channels, but got 1 channels instead\n",
      "wandb: ERROR \n",
      "Detected 5 failed runs in a row at start, killing sweep.\n",
      "wandb: ERROR Detected 5 failed runs in a row at start, killing sweep.\n",
      "wandb: To change this value set WANDB_AGENT_MAX_INITIAL_FAILURES=val\n"
     ]
    }
   ],
   "source": [
    "sweep_config = {\n",
    "    \"name\": \"Baseline Sweep\",\n",
    "    \"method\": \"bayes\",\n",
    "    \"metric\": {\"goal\": \"maximize\", \"name\": \"val_acc\"},\n",
    "    \"parameters\": {\n",
    "        \"epochs\": {\"min\": 7, \"max\": 20},\n",
    "        \"learning_rate\": {\"min\": 0, \"max\": 0.1, \"distribution\": \"log_uniform\"},\n",
    "        \n",
    "        \"batch_size_train\": {\"values\": [32]},\n",
    "        \"batch_size_val\": {\"values\": [32]},\n",
    "        \"anneal_strategy\": {\"values\": [\"linear\"]},\n",
    "    }\n",
    "}\n",
    "sweep_id = wandb.sweep(sweep=sweep_config, project=\"Baseline\", entity=\"swiss-birder\")\n",
    "\n",
    "wandb.agent(sweep_id, function=train)"
   ],
   "metadata": {
    "collapsed": false,
    "ExecuteTime": {
     "end_time": "2024-04-17T16:13:54.908822700Z",
     "start_time": "2024-04-17T16:02:17.126031700Z"
    }
   },
   "id": "f142c37ad4663b3c",
   "execution_count": 4
  }
 ],
 "metadata": {
  "kernelspec": {
   "display_name": "Python 3",
   "language": "python",
   "name": "python3"
  },
  "language_info": {
   "codemirror_mode": {
    "name": "ipython",
    "version": 2
   },
   "file_extension": ".py",
   "mimetype": "text/x-python",
   "name": "python",
   "nbconvert_exporter": "python",
   "pygments_lexer": "ipython2",
   "version": "2.7.6"
  }
 },
 "nbformat": 4,
 "nbformat_minor": 5
}
