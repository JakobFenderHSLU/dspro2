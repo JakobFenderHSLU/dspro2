{
 "cells": [
  {
   "cell_type": "markdown",
   "source": [
    "# Data Exploration\n",
    "\n",
    "There is already a great Notebook for data exporation. We condenced the information and made our own plots.\n",
    "The original Notebook can be found [here](https://www.kaggle.com/code/andradaolteanu/birdcall-recognition-eda-and-audio-fe)\n"
   ],
   "metadata": {
    "collapsed": false
   },
   "id": "2003904cf89adfe6"
  },
  {
   "cell_type": "code",
   "execution_count": null,
   "id": "initial_id",
   "metadata": {
    "collapsed": true
   },
   "outputs": [],
   "source": [
    "import matplotlib.pyplot as plt\n",
    "import seaborn as sns\n",
    "import pandas as pd\n",
    "import plotly.express as px\n",
    "import geopandas as gpd\n",
    "from shapely.geometry import Point, Polygon\n",
    "import re"
   ]
  },
  {
   "cell_type": "code",
   "outputs": [],
   "source": [
    "df = pd.read_csv(\"./input/Xeno-Canto_All-Metadata.csv\")\n",
    "# split date\n",
    "df['year'] = df['date'].apply(lambda x: x.split('-')[0])\n",
    "df['month'] = df['date'].apply(lambda x: x.split('-')[1])\n",
    "df['day_of_month'] = df['date'].apply(lambda x: x.split('-')[2])\n",
    "\n",
    "# time to common format\n",
    "# if time not correct, set to 00:00\n",
    "df['time'] = df['time'].astype(str).apply(lambda x: x if re.match(\"^[0-9]{2}:[0-9]{2}$\", x) else \"00:00\")\n",
    "df['time'] = pd.to_datetime(df['time'], format='%H:%M').dt.time\n",
    "\n",
    "# round time to nearest hour \n",
    "df['time'] = df['time'].apply(lambda x: x.replace(minute=0))\n",
    "\n",
    "# length to seconds\n",
    "df['length'] = df['length'].apply(lambda x: int(x.split(\":\")[0]) * 60 + int(x.split(\":\")[1]))\n",
    "\n",
    "df.head()"
   ],
   "metadata": {
    "collapsed": false
   },
   "id": "e5123e4d70841eb7",
   "execution_count": null
  },
  {
   "cell_type": "code",
   "outputs": [],
   "source": [
    "one_color = \"#DA291C\"\n",
    "color_map = [\"#000\", one_color]"
   ],
   "metadata": {
    "collapsed": false
   },
   "id": "203fe2c3096521a0",
   "execution_count": null
  },
  {
   "cell_type": "code",
   "outputs": [],
   "source": [
    "# time bar plot \n",
    "year_sorted = df.sort_values('year')\n",
    "\n",
    "plt.figure(figsize=(16, 6))\n",
    "# ax = sns.countplot(train_csv['year'], palette=\"hls\") but vertical sorted by year \n",
    "ax = sns.countplot(x=\"year\", data=year_sorted, color=one_color)\n",
    "\n",
    "plt.title(\"Audio Files Registration per Year Made\", fontsize=16)\n",
    "plt.xticks(rotation=90, fontsize=13)\n",
    "plt.yticks(fontsize=13)\n",
    "plt.ylabel(\"Amount\", fontsize=14)\n",
    "plt.xlabel(\"\");"
   ],
   "metadata": {
    "collapsed": false
   },
   "id": "f8094151b4d7046b",
   "execution_count": null
  },
  {
   "cell_type": "code",
   "outputs": [],
   "source": [
    "sorted_month = df.sort_values('month')\n",
    "\n",
    "plt.figure(figsize=(16, 6))\n",
    "ax = sns.countplot(x=\"month\", data=sorted_month, color=one_color)\n",
    "\n",
    "plt.title(\"Audio Files Registration per Month Made\", fontsize=16)\n",
    "plt.xticks(fontsize=13)\n",
    "plt.yticks(fontsize=13)\n",
    "plt.ylabel(\"Frequency\", fontsize=14)\n",
    "plt.xlabel(\"\");"
   ],
   "metadata": {
    "collapsed": false
   },
   "id": "de56371d6f25137b",
   "execution_count": null
  },
  {
   "cell_type": "code",
   "outputs": [],
   "source": [
    "# Create data\n",
    "data = df['time'].value_counts().reset_index()\n",
    "\n",
    "# sort by time\n",
    "data = data.sort_values('time').reset_index(drop=True)\n",
    "\n",
    "# drop index 0\n",
    "data = data.drop(0)\n",
    "\n",
    "plt.figure(figsize=(16, 6))\n",
    "sns.barplot(x=\"time\", y=\"count\", data=data, color=one_color) \n",
    "\n",
    "plt.title(\"When was the bird recorded?\", fontsize=16)\n",
    "plt.ylabel(\"\",)\n",
    "plt.yticks(fontsize=13)\n",
    "plt.xticks(rotation=45, fontsize=13)\n",
    "plt.xlabel(\"\")"
   ],
   "metadata": {
    "collapsed": false
   },
   "id": "9e29ad515d7bc35c",
   "execution_count": null
  },
  {
   "cell_type": "code",
   "outputs": [],
   "source": [
    "# plot length of audio files\n",
    "plt.figure(figsize=(16, 6))\n",
    "ax = sns.displot(df['length'], color=one_color)\n",
    "\n",
    "plt.xlim(0, 300)\n",
    "plt.title(\"Distribution of Audio Files Duration\", fontsize=16)\n",
    "plt.ylabel(\"Frequency\", fontsize=14)\n",
    "plt.yticks(fontsize=13)\n",
    "plt.xlabel(\"Duration (s)\", fontsize=14)\n",
    "plt.xticks(fontsize=13)"
   ],
   "metadata": {
    "collapsed": false
   },
   "id": "e452130c196d40be",
   "execution_count": null
  },
  {
   "cell_type": "code",
   "outputs": [],
   "source": [
    "# plot country of recordings pie chart\n",
    "country = df['cnt'].value_counts().reset_index()\n",
    "country.columns = ['cnt', 'count']\n",
    "\n",
    "fig = px.pie(country, values='count', names='cnt', title='Recordings per Country')\n",
    "fig.update_traces(textposition='inside', textinfo='percent+label')\n",
    "fig.show()"
   ],
   "metadata": {
    "collapsed": false
   },
   "id": "64ef488230e00f6e",
   "execution_count": null
  },
  {
   "cell_type": "code",
   "outputs": [],
   "source": [
    "# amount of recordings in switzerland\n",
    "switzerland = df[df['cnt'] == 'Switzerland']\n",
    "\n",
    "len(switzerland)"
   ],
   "metadata": {
    "collapsed": false
   },
   "id": "2b5a93011cef1e43",
   "execution_count": null
  },
  {
   "cell_type": "code",
   "outputs": [],
   "source": [
    "# plot amount of recording per species\n",
    "species = df['en'].value_counts().reset_index()\n",
    "species.columns = ['species', 'count']\n",
    "\n",
    "species = species.sort_values('count', ascending=False)\n",
    "\n",
    "# box plot\n",
    "plt.figure(figsize=(16, 6))\n",
    "box = sns.boxplot(x=\"count\", data=species, color=one_color)\n",
    "\n",
    "plt.title(\"Top 100 Species with the Most Recordings\", fontsize=16)\n",
    "plt.ylabel(\"Species\", fontsize=14)\n",
    "plt.yticks(fontsize=13)\n",
    "plt.xlabel(\"amount of recordings\", fontsize=14)\n",
    "plt.xticks(fontsize=13)\n",
    "\n",
    "plt.show()"
   ],
   "metadata": {
    "collapsed": false
   },
   "id": "b7cbfaf1b780ef6d",
   "execution_count": null
  },
  {
   "cell_type": "code",
   "outputs": [],
   "source": [
    "# SHP file\n",
    "world_map = gpd.read_file(\"./input/world-shape/world_shapefile.shp\")\n",
    "\n",
    "# Coordinate reference system\n",
    "crs = {\"init\" : \"epsg:4326\"}\n",
    "\n",
    "# Lat and Long need to be of type float, not object\n",
    "data = df[df[\"lat\"] != \"Not specified\"]\n",
    "data[\"lat\"] = data[\"lat\"].astype(float)\n",
    "data[\"lng\"] = data[\"lng\"].astype(float)\n",
    "\n",
    "# Create geometry\n",
    "geometry = [Point(xy) for xy in zip(data[\"lng\"], data[\"lat\"])]\n",
    "\n",
    "# Geo Dataframe\n",
    "geo_df = gpd.GeoDataFrame(data, crs=crs, geometry=geometry)\n",
    "\n",
    "# Plot\n",
    "fig, ax = plt.subplots(figsize=(20, 20))\n",
    "geo_df.plot(ax=ax, markersize=3, color=one_color, marker='o')\n",
    "world_map.boundary.plot(ax=ax, linewidth=1, color='black')\n",
    "\n",
    "plt.title(\"Bird Recordings Locations\", fontsize=16)\n",
    "plt.legend(fontsize=14)\n",
    "plt.show()"
   ],
   "metadata": {
    "collapsed": false
   },
   "id": "1e1d6e959aa6c84e",
   "execution_count": null
  }
 ],
 "metadata": {
  "kernelspec": {
   "display_name": "Python 3",
   "language": "python",
   "name": "python3"
  },
  "language_info": {
   "codemirror_mode": {
    "name": "ipython",
    "version": 2
   },
   "file_extension": ".py",
   "mimetype": "text/x-python",
   "name": "python",
   "nbconvert_exporter": "python",
   "pygments_lexer": "ipython2",
   "version": "2.7.6"
  }
 },
 "nbformat": 4,
 "nbformat_minor": 5
}
