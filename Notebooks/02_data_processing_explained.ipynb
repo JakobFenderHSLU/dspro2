{
 "cells": [
  {
   "cell_type": "markdown",
   "source": [
    "# Data Processing - Explained\n",
    "This note book will explain the data processing steps that will be used to generate the spectrogram images from the audio files. See the `AudioUtil` class for the implementation details. The notebook was created with the help of [this article](https://towardsdatascience.com/audio-deep-learning-made-simple-sound-classification-step-by-step-cebc936bbe5)."
   ],
   "metadata": {
    "collapsed": false
   },
   "id": "5f0424d8405aeb02"
  },
  {
   "cell_type": "code",
   "source": [
    "import IPython.display as ipd\n",
    "import matplotlib.pyplot as plt\n",
    "from torchaudio import transforms\n",
    "import torch\n",
    "\n",
    "from src.util.AudioUtil import AudioUtil as au"
   ],
   "metadata": {
    "collapsed": false
   },
   "id": "eebeb12a675f8d47",
   "outputs": [],
   "execution_count": null
  },
  {
   "cell_type": "code",
   "id": "initial_id",
   "metadata": {
    "collapsed": true
   },
   "source": [
    "# Load the audio file\n",
    "path = \"..//input/scrape/Common_Cuckoo/XC180920-kukulka.mp3\""
   ],
   "outputs": [],
   "execution_count": null
  },
  {
   "cell_type": "code",
   "source": [
    "audio = au.open(path)\n",
    "\n",
    "audio[0].shape, audio[1]"
   ],
   "metadata": {
    "collapsed": false
   },
   "id": "3060a34564a526f6",
   "outputs": [],
   "execution_count": null
  },
  {
   "cell_type": "code",
   "source": [
    "audio = au.rechannel(audio, 1)\n",
    "\n",
    "audio[0].shape, audio[1]"
   ],
   "metadata": {
    "collapsed": false
   },
   "id": "fbd53a4f3db5d9b9",
   "outputs": [],
   "execution_count": null
  },
  {
   "cell_type": "code",
   "source": [
    "audio = au.resample(audio, 44100)\n",
    "\n",
    "ipd.display(ipd.Audio(data=audio[0], rate=audio[1]))\n",
    "audio[0].shape, audio[1]"
   ],
   "metadata": {
    "collapsed": false
   },
   "id": "623a0597c48ff432",
   "outputs": [],
   "execution_count": null
  },
  {
   "cell_type": "code",
   "source": [
    "audio = au.pad_trunc(audio, 10000)\n",
    "ipd.display(ipd.Audio(data=audio[0], rate=audio[1]))"
   ],
   "metadata": {
    "collapsed": false
   },
   "id": "3d5fc8dff7dfc29f",
   "outputs": [],
   "execution_count": null
  },
  {
   "metadata": {},
   "cell_type": "code",
   "source": [
    "spec_transform = transforms.MelSpectrogram(audio[1], n_fft=1024, hop_length=None, n_mels=64)\n",
    "spec = spec_transform(audio[0])\n",
    "\n",
    "plt.figure(figsize=(15, 10))\n",
    "plt.imshow(spec[0], cmap='viridis')\n",
    "plt.show()"
   ],
   "id": "345b17c23607e8f5",
   "outputs": [],
   "execution_count": null
  },
  {
   "metadata": {},
   "cell_type": "markdown",
   "source": "Cant see much. Thats because we humans perceive sound in log scale. So we need to convert the spectrogram to log scale.",
   "id": "8cc1e967e4b77d02"
  },
  {
   "metadata": {},
   "cell_type": "code",
   "source": [
    "spectrogram = transforms.AmplitudeToDB(top_db=80)(spec)\n",
    "\n",
    "plt.figure(figsize=(15, 10))\n",
    "plt.imshow(spectrogram[0], cmap='viridis')\n",
    "plt.show()"
   ],
   "id": "25ca3f91fdf01bd",
   "outputs": [],
   "execution_count": null
  },
  {
   "cell_type": "code",
   "source": [
    "spectrogram = au.spectrogram(audio)\n",
    "\n",
    "spectrogram.shape"
   ],
   "metadata": {
    "collapsed": false
   },
   "id": "7e864882a60775d9",
   "outputs": [],
   "execution_count": null
  },
  {
   "metadata": {},
   "cell_type": "markdown",
   "source": "Looks good. But we can do better. We can normalize the spectrogram",
   "id": "dc684d1adee2f715"
  },
  {
   "metadata": {},
   "cell_type": "code",
   "source": [
    "spec_transform = transforms.MelSpectrogram(audio[1], n_fft=1024, hop_length=None, n_mels=64)\n",
    "spec = spec_transform(audio[0])\n",
    "\n",
    "# log(1 + spec)\n",
    "spec = torch.log1p(spec)\n",
    "\n",
    "spec = transforms.AmplitudeToDB(top_db=80)(spec)\n",
    "\n",
    "plt.figure(figsize=(15, 10))\n",
    "plt.imshow(spec[0], cmap='viridis')\n",
    "plt.show()"
   ],
   "id": "2398ac93c237edd9",
   "outputs": [],
   "execution_count": null
  },
  {
   "cell_type": "code",
   "source": [
    "# plot the spectrogram\n",
    "plt.figure(figsize=(15, 10))\n",
    "plt.imshow(spectrogram[0], cmap='viridis')\n",
    "plt.show()"
   ],
   "metadata": {
    "collapsed": false
   },
   "id": "b9cab4e598d0becf",
   "outputs": [],
   "execution_count": null
  },
  {
   "cell_type": "code",
   "source": [
    "aug_spec = au.spectro_augment(spectrogram, max_mask_pct=0.1, n_freq_masks=1, n_time_masks=1)\n",
    "\n",
    "plt.figure(figsize=(15, 10))\n",
    "plt.imshow(aug_spec[0], cmap='viridis')\n",
    "plt.show()"
   ],
   "metadata": {
    "collapsed": false
   },
   "id": "1d8dc3e022c7e315",
   "outputs": [],
   "execution_count": null
  }
 ],
 "metadata": {
  "kernelspec": {
   "display_name": "Python 3",
   "language": "python",
   "name": "python3"
  },
  "language_info": {
   "codemirror_mode": {
    "name": "ipython",
    "version": 2
   },
   "file_extension": ".py",
   "mimetype": "text/x-python",
   "name": "python",
   "nbconvert_exporter": "python",
   "pygments_lexer": "ipython2",
   "version": "2.7.6"
  }
 },
 "nbformat": 4,
 "nbformat_minor": 5
}
