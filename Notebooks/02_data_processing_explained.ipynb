{
 "cells": [
  {
   "cell_type": "markdown",
   "source": [
    "# Data Processing - Explained\n",
    "This note book will explain the data processing steps that will be used to generate the spectrogram images from the audio files. See the `AudioUtil` class for the implementation details. The notebook was created with the help of [this article](https://towardsdatascience.com/audio-deep-learning-made-simple-sound-classification-step-by-step-cebc936bbe5)."
   ],
   "metadata": {
    "collapsed": false
   },
   "id": "5f0424d8405aeb02"
  },
  {
   "cell_type": "code",
   "outputs": [],
   "source": [
    "import IPython.display as ipd\n",
    "import matplotlib.pyplot as plt\n",
    "import pandas as pd\n",
    "\n",
    "from AudioUtil import AudioUtil as au"
   ],
   "metadata": {
    "collapsed": false
   },
   "id": "eebeb12a675f8d47",
   "execution_count": null
  },
  {
   "cell_type": "code",
   "execution_count": null,
   "id": "initial_id",
   "metadata": {
    "collapsed": true
   },
   "outputs": [],
   "source": [
    "# Load the audio file\n",
    "path = \"./input/birdsong-recognition/train_audio/vesspa/XC17095.mp3\""
   ]
  },
  {
   "cell_type": "code",
   "outputs": [],
   "source": [
    "df = pd.read_csv(\"./input/birdsong-recognition/train.csv\")\n",
    "\n",
    "df[df[\"filename\"] == \"XC17095.mp3\"][\"sci_name\"]"
   ],
   "metadata": {
    "collapsed": false
   },
   "id": "911094bfe53aadf4",
   "execution_count": null
  },
  {
   "cell_type": "code",
   "outputs": [],
   "source": [
    "audio = au.open(path)\n",
    "\n",
    "audio[0].shape, audio[1]"
   ],
   "metadata": {
    "collapsed": false
   },
   "id": "3060a34564a526f6",
   "execution_count": null
  },
  {
   "cell_type": "code",
   "outputs": [],
   "source": [
    "audio = au.rechannel(audio, 1)\n",
    "\n",
    "audio[0].shape, audio[1]"
   ],
   "metadata": {
    "collapsed": false
   },
   "id": "fbd53a4f3db5d9b9",
   "execution_count": null
  },
  {
   "cell_type": "code",
   "outputs": [],
   "source": [
    "audio = au.resample(audio, 44100)\n",
    "\n",
    "ipd.display(ipd.Audio(data=audio[0], rate=audio[1]))\n",
    "audio[0].shape, audio[1]"
   ],
   "metadata": {
    "collapsed": false
   },
   "id": "623a0597c48ff432",
   "execution_count": null
  },
  {
   "cell_type": "code",
   "outputs": [],
   "source": [
    "audio = au.pad_trunc(audio, 15000)\n",
    "ipd.display(ipd.Audio(data=audio[0], rate=audio[1]))"
   ],
   "metadata": {
    "collapsed": false
   },
   "id": "3d5fc8dff7dfc29f",
   "execution_count": null
  },
  {
   "cell_type": "code",
   "outputs": [],
   "source": [
    "spectrogram = au.spectro_gram(audio)\n",
    "\n",
    "spectrogram.shape"
   ],
   "metadata": {
    "collapsed": false
   },
   "id": "7e864882a60775d9",
   "execution_count": null
  },
  {
   "cell_type": "code",
   "outputs": [],
   "source": [
    "# plot the spectrogram\n",
    "plt.figure(figsize=(15, 10))\n",
    "plt.imshow(spectrogram[0], cmap='viridis')\n",
    "plt.show()"
   ],
   "metadata": {
    "collapsed": false
   },
   "id": "b9cab4e598d0becf",
   "execution_count": null
  },
  {
   "cell_type": "code",
   "outputs": [],
   "source": [
    "aug_spec = au.spectro_augment(spectrogram, max_mask_pct=0.1, n_freq_masks=1, n_time_masks=1)\n",
    "\n",
    "plt.figure(figsize=(15, 10))\n",
    "plt.imshow(aug_spec[0], cmap='viridis')\n",
    "plt.show()"
   ],
   "metadata": {
    "collapsed": false
   },
   "id": "1d8dc3e022c7e315",
   "execution_count": null
  }
 ],
 "metadata": {
  "kernelspec": {
   "display_name": "Python 3",
   "language": "python",
   "name": "python3"
  },
  "language_info": {
   "codemirror_mode": {
    "name": "ipython",
    "version": 2
   },
   "file_extension": ".py",
   "mimetype": "text/x-python",
   "name": "python",
   "nbconvert_exporter": "python",
   "pygments_lexer": "ipython2",
   "version": "2.7.6"
  }
 },
 "nbformat": 4,
 "nbformat_minor": 5
}
