{
 "cells": [
  {
   "cell_type": "markdown",
   "source": [
    "See [guide](https://towardsdatascience.com/audio-deep-learning-made-simple-sound-classification-step-by-step-cebc936bbe5)"
   ],
   "metadata": {
    "collapsed": false
   },
   "id": "7b8cc06f648e23a2"
  },
  {
   "cell_type": "code",
   "source": [
    "%load_ext autoreload"
   ],
   "metadata": {
    "collapsed": false,
    "ExecuteTime": {
     "end_time": "2024-05-11T19:47:34.245956Z",
     "start_time": "2024-05-11T19:47:34.231647Z"
    }
   },
   "id": "574da222403e9058",
   "outputs": [
    {
     "name": "stdout",
     "output_type": "stream",
     "text": [
      "The autoreload extension is already loaded. To reload it, use:\n",
      "  %reload_ext autoreload\n"
     ]
    }
   ],
   "execution_count": 11
  },
  {
   "cell_type": "code",
   "id": "initial_id",
   "metadata": {
    "collapsed": true,
    "ExecuteTime": {
     "end_time": "2024-05-11T19:47:34.261559Z",
     "start_time": "2024-05-11T19:47:34.247049Z"
    }
   },
   "source": [
    "import pandas as pd\n",
    "import torch\n",
    "import wandb\n",
    "import src.Baseline\n",
    "\n",
    "from torch.utils.data import DataLoader\n",
    "from torch.utils.data import random_split\n",
    "from importlib import reload\n",
    "from src.Baseline import SoundDS, AudioClassifier, training, inference"
   ],
   "outputs": [],
   "execution_count": 12
  },
  {
   "metadata": {
    "ExecuteTime": {
     "end_time": "2024-05-11T19:47:34.276621Z",
     "start_time": "2024-05-11T19:47:34.262672Z"
    }
   },
   "cell_type": "code",
   "source": [
    "torch.cuda.is_available()\n",
    "if not torch.cuda.is_available():\n",
    "    raise Exception(\"GPU not available\")"
   ],
   "id": "a2ef1bac75bbfd0b",
   "outputs": [],
   "execution_count": 13
  },
  {
   "cell_type": "code",
   "source": [
    "# get all folder names in directory\n",
    "\n",
    "\n",
    "\n",
    "data_path = \"./input/scrape/\"\n",
    "\n",
    "folders = os.listdir(data_path)\n",
    "folders = [f for f in folders if os.path.isdir(os.path.join(data_path, f))]\n",
    "\n",
    "\n",
    "current_species_id = 1\n",
    "df_dict = {\"species_id\": [], \"name\": [], \"path\": []}\n",
    "\n",
    "for folder in folders:\n",
    "    files = os.listdir(os.path.join\n",
    "                       (data_path, folder))\n",
    "    files = [f for f in files if f.endswith('.mp3')]\n",
    "    \n",
    "    if len(files) == 0:\n",
    "        print(f\"No files found in {folder}\")\n",
    "    \n",
    "    for file in files:\n",
    "        path = str(os.path.join(data_path, folder, file))\n",
    "        df_dict[\"species_id\"].append(current_species_id)\n",
    "        df_dict[\"name\"].append(folder)\n",
    "        df_dict[\"path\"].append(path)\n",
    "        \n",
    "    current_species_id += 1\n",
    "        \n",
    "df = pd.DataFrame(df_dict)\n",
    "\n",
    "df.head()"
   ],
   "metadata": {
    "collapsed": false,
    "ExecuteTime": {
     "end_time": "2024-05-11T19:47:35.768342Z",
     "start_time": "2024-05-11T19:47:34.277627Z"
    }
   },
   "id": "1bcc341f63373622",
   "outputs": [
    {
     "name": "stdout",
     "output_type": "stream",
     "text": [
      "No files found in Common_Reed_Warbler\n",
      "No files found in Eurasian_Chaffinch\n",
      "No files found in Eurasian_Goshawk\n",
      "No files found in Long-billed_Murrelet\n",
      "No files found in Long-tailed_Shrike\n",
      "No files found in Macqueen's_Bustard\n",
      "No files found in MoltoniΓÇÖs_Warbler\n",
      "No files found in Rock_SparrowWhite-winged_Snowfinch\n",
      "No files found in Western_House_Martin\n"
     ]
    },
    {
     "data": {
      "text/plain": [
       "   species_id                 name  \\\n",
       "0           1  African_Sacred_Ibis   \n",
       "1           1  African_Sacred_Ibis   \n",
       "2           1  African_Sacred_Ibis   \n",
       "3           1  African_Sacred_Ibis   \n",
       "4           1  African_Sacred_Ibis   \n",
       "\n",
       "                                                path  \n",
       "0  ./input/scrape/African_Sacred_Ibis\\XC132389-19...  \n",
       "1  ./input/scrape/African_Sacred_Ibis\\XC132389-19...  \n",
       "2  ./input/scrape/African_Sacred_Ibis\\XC132389-19...  \n",
       "3  ./input/scrape/African_Sacred_Ibis\\XC278223-Sa...  \n",
       "4  ./input/scrape/African_Sacred_Ibis\\XC309388-sa...  "
      ],
      "text/html": [
       "<div>\n",
       "<style scoped>\n",
       "    .dataframe tbody tr th:only-of-type {\n",
       "        vertical-align: middle;\n",
       "    }\n",
       "\n",
       "    .dataframe tbody tr th {\n",
       "        vertical-align: top;\n",
       "    }\n",
       "\n",
       "    .dataframe thead th {\n",
       "        text-align: right;\n",
       "    }\n",
       "</style>\n",
       "<table border=\"1\" class=\"dataframe\">\n",
       "  <thead>\n",
       "    <tr style=\"text-align: right;\">\n",
       "      <th></th>\n",
       "      <th>species_id</th>\n",
       "      <th>name</th>\n",
       "      <th>path</th>\n",
       "    </tr>\n",
       "  </thead>\n",
       "  <tbody>\n",
       "    <tr>\n",
       "      <th>0</th>\n",
       "      <td>1</td>\n",
       "      <td>African_Sacred_Ibis</td>\n",
       "      <td>./input/scrape/African_Sacred_Ibis\\XC132389-19...</td>\n",
       "    </tr>\n",
       "    <tr>\n",
       "      <th>1</th>\n",
       "      <td>1</td>\n",
       "      <td>African_Sacred_Ibis</td>\n",
       "      <td>./input/scrape/African_Sacred_Ibis\\XC132389-19...</td>\n",
       "    </tr>\n",
       "    <tr>\n",
       "      <th>2</th>\n",
       "      <td>1</td>\n",
       "      <td>African_Sacred_Ibis</td>\n",
       "      <td>./input/scrape/African_Sacred_Ibis\\XC132389-19...</td>\n",
       "    </tr>\n",
       "    <tr>\n",
       "      <th>3</th>\n",
       "      <td>1</td>\n",
       "      <td>African_Sacred_Ibis</td>\n",
       "      <td>./input/scrape/African_Sacred_Ibis\\XC278223-Sa...</td>\n",
       "    </tr>\n",
       "    <tr>\n",
       "      <th>4</th>\n",
       "      <td>1</td>\n",
       "      <td>African_Sacred_Ibis</td>\n",
       "      <td>./input/scrape/African_Sacred_Ibis\\XC309388-sa...</td>\n",
       "    </tr>\n",
       "  </tbody>\n",
       "</table>\n",
       "</div>"
      ]
     },
     "execution_count": 14,
     "metadata": {},
     "output_type": "execute_result"
    }
   ],
   "execution_count": 14
  },
  {
   "metadata": {
    "ExecuteTime": {
     "end_time": "2024-05-11T19:47:35.784360Z",
     "start_time": "2024-05-11T19:47:35.769469Z"
    }
   },
   "cell_type": "code",
   "source": "df.name.value_counts()",
   "id": "826be790d2af3ee",
   "outputs": [
    {
     "data": {
      "text/plain": [
       "name\n",
       "Marsh_Warbler            4769\n",
       "Boreal_Owl               4741\n",
       "Blyth's_Reed_Warbler     4577\n",
       "Song_Thrush              4406\n",
       "Thrush_Nightingale       3968\n",
       "                         ... \n",
       "Bewick's_Swan               2\n",
       "Ivory_Gull                  2\n",
       "Houbara_Bustard             1\n",
       "Pink-backed_Pelican         1\n",
       "Slender-billed_Curlew       1\n",
       "Name: count, Length: 428, dtype: int64"
      ]
     },
     "execution_count": 15,
     "metadata": {},
     "output_type": "execute_result"
    }
   ],
   "execution_count": 15
  },
  {
   "metadata": {
    "ExecuteTime": {
     "end_time": "2024-05-11T19:47:35.799546Z",
     "start_time": "2024-05-11T19:47:35.785388Z"
    }
   },
   "cell_type": "code",
   "source": [
    "# max species id\n",
    "df.species_id.max()"
   ],
   "id": "3668187b2c5ea761",
   "outputs": [
    {
     "data": {
      "text/plain": [
       "437"
      ]
     },
     "execution_count": 16,
     "metadata": {},
     "output_type": "execute_result"
    }
   ],
   "execution_count": 16
  },
  {
   "cell_type": "code",
   "source": [
    "def train():\n",
    "    wandb.init()\n",
    "\n",
    "    myds = SoundDS(df, \"\")\n",
    "\n",
    "    # Random split of 80:20 between training and validation\n",
    "    num_items = len(myds)\n",
    "    num_train = round(num_items * 0.8)\n",
    "    num_val = num_items - num_train\n",
    "    train_ds, val_ds = random_split(myds, [num_train, num_val])\n",
    "\n",
    "    # Create training and validation data loaders\n",
    "    train_dl = torch.utils.data.DataLoader(train_ds,\n",
    "                                           batch_size=wandb.config.batch_size_train,\n",
    "                                           shuffle=True)\n",
    "    val_dl = torch.utils.data.DataLoader(val_ds,\n",
    "                                         batch_size=wandb.config.batch_size_val,\n",
    "                                         shuffle=False)\n",
    "\n",
    "    # Create the model and put it on the GPU if available\n",
    "    model = AudioClassifier()\n",
    "    device = torch.device(\"cuda:0\" if torch.cuda.is_available() else \"cpu\")\n",
    "    print(f\"Using device {device}\")\n",
    "    model = model.to(device)\n",
    "    # Check that it is on Cuda\n",
    "    # var = next(model.parameters()).device\n",
    "\n",
    "    num_epochs = wandb.config.epochs\n",
    "    training(model, train_dl, num_epochs, device)\n",
    "\n",
    "    # Run inference on trained model with the validation set\n",
    "    inference(model, val_dl, device)\n",
    "\n",
    "    # Save the model in the exchangeable ONNX format\n",
    "    torch.onnx.export(model, torch.randn(1, 1, 128, 201), \"model.onnx\")\n",
    "\n",
    "    wandb.save(\"model.onnx\")"
   ],
   "metadata": {
    "collapsed": false,
    "ExecuteTime": {
     "end_time": "2024-05-11T19:47:35.814924Z",
     "start_time": "2024-05-11T19:47:35.800550Z"
    }
   },
   "id": "d86e358e87f7fd9b",
   "outputs": [],
   "execution_count": 17
  },
  {
   "cell_type": "code",
   "source": [
    "sweep_config = {\n",
    "    \"name\": \"Baseline Sweep\",\n",
    "    \"method\": \"bayes\",\n",
    "    \"metric\": {\"goal\": \"maximize\", \"name\": \"val_acc\"},\n",
    "    \"parameters\": {\n",
    "        \"epochs\": {\"min\": 7, \"max\": 20},\n",
    "        \"learning_rate\": {\"min\": 0, \"max\": 0.1, \"distribution\": \"log_uniform\"},\n",
    "\n",
    "        \"batch_size_train\": {\"values\": [32]},\n",
    "        \"batch_size_val\": {\"values\": [32]},\n",
    "        \"anneal_strategy\": {\"values\": [\"linear\"]},\n",
    "    }\n",
    "}\n",
    "sweep_id = wandb.sweep(sweep=sweep_config, project=\"Baseline-Full\", entity=\"swiss-birder\")\n",
    "wandb.agent(sweep_id, function=train)"
   ],
   "metadata": {
    "collapsed": false,
    "ExecuteTime": {
     "start_time": "2024-05-11T19:47:35.814924Z"
    }
   },
   "id": "f142c37ad4663b3c",
   "outputs": [
    {
     "name": "stderr",
     "output_type": "stream",
     "text": [
      "wandb: WARNING Malformed sweep config detected! This may cause your sweep to behave in unexpected ways.\n",
      "wandb: WARNING To avoid this, please fix the sweep config schema violations below:\n",
      "wandb: WARNING   Violation 1. learning_rate uses log_uniform, where min/max specify base-e exponents. Use log_uniform_values to specify limit values.\n"
     ]
    },
    {
     "name": "stdout",
     "output_type": "stream",
     "text": [
      "Create sweep with ID: jn8bch69\n",
      "Sweep URL: https://wandb.ai/swiss-birder/Baseline-Full/sweeps/jn8bch69\n"
     ]
    },
    {
     "name": "stderr",
     "output_type": "stream",
     "text": [
      "wandb: Agent Starting Run: moursmyk with config:\n",
      "wandb: \tanneal_strategy: linear\n",
      "wandb: \tbatch_size_train: 32\n",
      "wandb: \tbatch_size_val: 32\n",
      "wandb: \tepochs: 18\n",
      "wandb: \tlearning_rate: 1.0292679668013025\n"
     ]
    },
    {
     "data": {
      "text/plain": [
       "<IPython.core.display.HTML object>"
      ],
      "text/html": [
       "wandb version 0.17.0 is available!  To upgrade, please run:\n",
       " $ pip install wandb --upgrade"
      ]
     },
     "metadata": {},
     "output_type": "display_data"
    },
    {
     "data": {
      "text/plain": [
       "<IPython.core.display.HTML object>"
      ],
      "text/html": [
       "Tracking run with wandb version 0.16.5"
      ]
     },
     "metadata": {},
     "output_type": "display_data"
    },
    {
     "data": {
      "text/plain": [
       "<IPython.core.display.HTML object>"
      ],
      "text/html": [
       "Run data is saved locally in <code>C:\\code\\dspro2\\wandb\\run-20240511_214738-moursmyk</code>"
      ]
     },
     "metadata": {},
     "output_type": "display_data"
    },
    {
     "data": {
      "text/plain": [
       "<IPython.core.display.HTML object>"
      ],
      "text/html": [
       "Syncing run <strong><a href='https://wandb.ai/swiss-birder/Baseline-Full/runs/moursmyk/workspace' target=\"_blank\">floral-sweep-1</a></strong> to <a href='https://wandb.ai/swiss-birder/Baseline-Full' target=\"_blank\">Weights & Biases</a> (<a href='https://wandb.me/run' target=\"_blank\">docs</a>)<br/>Sweep page: <a href='https://wandb.ai/swiss-birder/Baseline-Full/sweeps/jn8bch69' target=\"_blank\">https://wandb.ai/swiss-birder/Baseline-Full/sweeps/jn8bch69</a>"
      ]
     },
     "metadata": {},
     "output_type": "display_data"
    },
    {
     "data": {
      "text/plain": [
       "<IPython.core.display.HTML object>"
      ],
      "text/html": [
       " View project at <a href='https://wandb.ai/swiss-birder/Baseline-Full' target=\"_blank\">https://wandb.ai/swiss-birder/Baseline-Full</a>"
      ]
     },
     "metadata": {},
     "output_type": "display_data"
    },
    {
     "data": {
      "text/plain": [
       "<IPython.core.display.HTML object>"
      ],
      "text/html": [
       " View sweep at <a href='https://wandb.ai/swiss-birder/Baseline-Full/sweeps/jn8bch69' target=\"_blank\">https://wandb.ai/swiss-birder/Baseline-Full/sweeps/jn8bch69</a>"
      ]
     },
     "metadata": {},
     "output_type": "display_data"
    },
    {
     "data": {
      "text/plain": [
       "<IPython.core.display.HTML object>"
      ],
      "text/html": [
       " View run at <a href='https://wandb.ai/swiss-birder/Baseline-Full/runs/moursmyk/workspace' target=\"_blank\">https://wandb.ai/swiss-birder/Baseline-Full/runs/moursmyk/workspace</a>"
      ]
     },
     "metadata": {},
     "output_type": "display_data"
    },
    {
     "name": "stdout",
     "output_type": "stream",
     "text": [
      "Using device cuda:0\n"
     ]
    }
   ],
   "execution_count": null
  }
 ],
 "metadata": {
  "kernelspec": {
   "display_name": "Python 3",
   "language": "python",
   "name": "python3"
  },
  "language_info": {
   "codemirror_mode": {
    "name": "ipython",
    "version": 2
   },
   "file_extension": ".py",
   "mimetype": "text/x-python",
   "name": "python",
   "nbconvert_exporter": "python",
   "pygments_lexer": "ipython2",
   "version": "2.7.6"
  }
 },
 "nbformat": 4,
 "nbformat_minor": 5
}
