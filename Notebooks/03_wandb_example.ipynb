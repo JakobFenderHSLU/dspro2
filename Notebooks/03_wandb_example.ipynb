{
 "cells": [
  {
   "cell_type": "markdown",
   "source": [
    "# Weights & Biases - Quickstart\n",
    "This notebook has a bare bone structure for a quick start with Weights & Biases. It is based on the official documentation available at [https://docs.wandb.ai/quickstart](https://docs.wandb.ai/quickstart)."
   ],
   "metadata": {
    "collapsed": false
   },
   "id": "e5b9dbc82d35f914"
  },
  {
   "cell_type": "code",
   "execution_count": null,
   "id": "initial_id",
   "metadata": {
    "collapsed": true
   },
   "outputs": [],
   "source": [
    "import wandb\n",
    "import random"
   ]
  },
  {
   "cell_type": "code",
   "outputs": [],
   "source": [
    "def train():\n",
    "    # Initialize a new wandb run\n",
    "    wandb.init()\n",
    "    # simulate training\n",
    "    epochs = 10\n",
    "    offset = random.random() / (5 + wandb.config.learning_rate)\n",
    "    for epoch in range(2, epochs):\n",
    "        acc = 1 - 2 ** -epoch - random.random() / epoch - offset\n",
    "        loss = 2 ** -epoch + random.random() / epoch + offset\n",
    "    \n",
    "        # log metrics to wandb\n",
    "        wandb.log({\"acc\": acc, \"loss\": loss})\n",
    "        \n",
    "    wandb.finish()\n",
    "\n",
    "\n",
    "sweep_config = {\n",
    "    \"name\": \"Example Sweep\",\n",
    "    \"method\": \"bayes\",\n",
    "    \"metric\": {\"goal\": \"minimize\", \"name\": \"loss\"},\n",
    "    \"parameters\": {\n",
    "        \"learning_rate\": {\"min\": 0.0001, \"max\": 0.1},\n",
    "    }\n",
    "}\n",
    "sweep_id = wandb.sweep(sweep=sweep_config, project=\"example\", entity=\"swiss-birder\")\n",
    "\n",
    "wandb.agent(sweep_id, function=train)"
   ],
   "metadata": {
    "collapsed": false
   },
   "id": "5a825a08975aeec0",
   "execution_count": null
  }
 ],
 "metadata": {
  "kernelspec": {
   "display_name": "Python 3",
   "language": "python",
   "name": "python3"
  },
  "language_info": {
   "codemirror_mode": {
    "name": "ipython",
    "version": 2
   },
   "file_extension": ".py",
   "mimetype": "text/x-python",
   "name": "python",
   "nbconvert_exporter": "python",
   "pygments_lexer": "ipython2",
   "version": "2.7.6"
  }
 },
 "nbformat": 4,
 "nbformat_minor": 5
}
